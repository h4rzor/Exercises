{
 "cells": [
  {
   "cell_type": "code",
   "execution_count": 1,
   "id": "e1f00727",
   "metadata": {},
   "outputs": [
    {
     "name": "stderr",
     "output_type": "stream",
     "text": [
      "2023-05-30 12:26:18.639364: I tensorflow/core/util/port.cc:110] oneDNN custom operations are on. You may see slightly different numerical results due to floating-point round-off errors from different computation orders. To turn them off, set the environment variable `TF_ENABLE_ONEDNN_OPTS=0`.\n",
      "2023-05-30 12:26:18.671834: I tensorflow/core/platform/cpu_feature_guard.cc:182] This TensorFlow binary is optimized to use available CPU instructions in performance-critical operations.\n",
      "To enable the following instructions: AVX2 AVX512F AVX512_VNNI FMA, in other operations, rebuild TensorFlow with the appropriate compiler flags.\n",
      "2023-05-30 12:26:19.208410: W tensorflow/compiler/tf2tensorrt/utils/py_utils.cc:38] TF-TRT Warning: Could not find TensorRT\n"
     ]
    }
   ],
   "source": [
    "import torch\n",
    "import pandas as pd\n",
    "import numpy as np\n",
    "import torchvision\n",
    "import keras\n",
    "import matplotlib.pyplot as plt\n",
    "from torchvision import transforms\n",
    "import tensorflow.keras\n",
    "from PIL import Image\n",
    "import cv2\n",
    "from torch import nn\n",
    "from torch.utils.data import TensorDataset, DataLoader\n",
    "from tqdm import tqdm"
   ]
  },
  {
   "cell_type": "code",
   "execution_count": 2,
   "id": "4afc63d5",
   "metadata": {},
   "outputs": [],
   "source": [
    "dataset = tensorflow.keras.datasets.mnist.load_data()"
   ]
  },
  {
   "cell_type": "code",
   "execution_count": 3,
   "id": "638c7a99",
   "metadata": {},
   "outputs": [],
   "source": [
    "(x_train, x_test), (y_train, y_test) = dataset"
   ]
  },
  {
   "cell_type": "code",
   "execution_count": 4,
   "id": "bf1cdb46",
   "metadata": {},
   "outputs": [
    {
     "data": {
      "text/plain": [
       "60000"
      ]
     },
     "execution_count": 4,
     "metadata": {},
     "output_type": "execute_result"
    }
   ],
   "source": [
    "len(x_train)"
   ]
  },
  {
   "cell_type": "code",
   "execution_count": 5,
   "id": "d36ccec3",
   "metadata": {},
   "outputs": [
    {
     "data": {
      "text/plain": [
       "(28, 28)"
      ]
     },
     "execution_count": 5,
     "metadata": {},
     "output_type": "execute_result"
    }
   ],
   "source": [
    "x_train[0].shape"
   ]
  },
  {
   "cell_type": "code",
   "execution_count": 6,
   "id": "7adb0bba",
   "metadata": {},
   "outputs": [
    {
     "data": {
      "image/png": "[encoded data removed]",
      "text/plain": [
       "<Figure size 640x480 with 1 Axes>"
      ]
     },
     "metadata": {},
     "output_type": "display_data"
    }
   ],
   "source": [
    "plt.imshow(x_train[0], cmap=\"gray\")\n",
    "plt.show()"
   ]
  },
  {
   "cell_type": "code",
   "execution_count": null,
   "id": "7562eaf5",
   "metadata": {},
   "outputs": [],
   "source": []
  },
  {
   "cell_type": "code",
   "execution_count": 7,
   "id": "450e57a2",
   "metadata": {},
   "outputs": [],
   "source": [
    "def transforms_images(image):\n",
    "    mean = 0\n",
    "    std = 180\n",
    "    noise = np.zeros(image.shape, np.uint8)\n",
    "    noise_applied = cv2.randn(noise, mean, std)\n",
    "    noisy_image = cv2.add(image, noise_applied)\n",
    "    return noisy_image"
   ]
  },
  {
   "cell_type": "code",
   "execution_count": 8,
   "id": "d7869e6b",
   "metadata": {},
   "outputs": [],
   "source": [
    "noisy_images = [Image.fromarray(transforms_images(image)) for image in x_train]"
   ]
  },
  {
   "cell_type": "code",
   "execution_count": 9,
   "id": "4c3b1416",
   "metadata": {},
   "outputs": [
    {
     "data": {
      "text/plain": [
       "60000"
      ]
     },
     "execution_count": 9,
     "metadata": {},
     "output_type": "execute_result"
    }
   ],
   "source": [
    "len(noisy_images)"
   ]
  },
  {
   "cell_type": "code",
   "execution_count": 10,
   "id": "40b82684",
   "metadata": {},
   "outputs": [
    {
     "data": {
      "image/png": "[encoded data removed]",
      "text/plain": [
       "<Figure size 640x480 with 1 Axes>"
      ]
     },
     "metadata": {},
     "output_type": "display_data"
    }
   ],
   "source": [
    "plt.imshow(noisy_images[1], cmap=\"gray\")\n",
    "plt.show()"
   ]
  },
  {
   "cell_type": "code",
   "execution_count": 11,
   "id": "7f6b1f37",
   "metadata": {},
   "outputs": [],
   "source": [
    "transform = transforms.Compose([\n",
    "    transforms.ToTensor(),\n",
    "    transforms.Normalize([0.5], [0.5])\n",
    "])"
   ]
  },
  {
   "cell_type": "code",
   "execution_count": 12,
   "id": "371f9504",
   "metadata": {},
   "outputs": [],
   "source": [
    "noisy_images_transformed = [transform(image) for image in noisy_images]"
   ]
  },
  {
   "cell_type": "code",
   "execution_count": 13,
   "id": "70bc5d24",
   "metadata": {},
   "outputs": [
    {
     "name": "stdout",
     "output_type": "stream",
     "text": [
      "tensor(1.) tensor(-1.)\n"
     ]
    }
   ],
   "source": [
    "print(torch.max(noisy_images_transformed[0]), torch.min(noisy_images_transformed[0]))"
   ]
  },
  {
   "cell_type": "code",
   "execution_count": 14,
   "id": "89127953",
   "metadata": {},
   "outputs": [
    {
     "data": {
      "text/plain": [
       "torch.Tensor"
      ]
     },
     "execution_count": 14,
     "metadata": {},
     "output_type": "execute_result"
    }
   ],
   "source": [
    "type(noisy_images_transformed[0])"
   ]
  },
  {
   "cell_type": "code",
   "execution_count": null,
   "id": "4212727a",
   "metadata": {},
   "outputs": [],
   "source": []
  },
  {
   "cell_type": "code",
   "execution_count": 15,
   "id": "af909a2b",
   "metadata": {},
   "outputs": [],
   "source": [
    "class Network(nn.Module):\n",
    "    def __init__(self):\n",
    "        super(Network, self).__init__()\n",
    "        \n",
    "        self.encoder = nn.Sequential(\n",
    "            nn.Conv2d(1, 16, kernel_size=3, stride=2, padding=1),\n",
    "            nn.ReLU(),\n",
    "            nn.Conv2d(16, 32, kernel_size=3, stride=2, padding=1),\n",
    "            nn.ReLU(),\n",
    "            nn.Conv2d(32, 64, kernel_size=3, stride=2, padding=1),\n",
    "            nn.ReLU()\n",
    "        )\n",
    "        \n",
    "        self.decoder = nn.Sequential(\n",
    "            nn.ConvTranspose2d(64, 32, kernel_size=2, stride=2, padding=1, output_padding=1),\n",
    "            nn.ReLU(),\n",
    "            nn.ConvTranspose2d(32, 16, kernel_size=3, stride=2, padding=1, output_padding=1),\n",
    "            nn.ReLU(),\n",
    "            nn.ConvTranspose2d(16, 1, kernel_size=3, stride=2, padding=1, output_padding=1),\n",
    "        )\n",
    "        \n",
    "    def forward(self, image):\n",
    "        encoder = self.encoder(image)\n",
    "        decoder = self.decoder(encoder)\n",
    "        return decoder"
   ]
  },
  {
   "cell_type": "code",
   "execution_count": 16,
   "id": "a3871d05",
   "metadata": {},
   "outputs": [],
   "source": [
    "autoencoder = Network()"
   ]
  },
  {
   "cell_type": "code",
   "execution_count": 17,
   "id": "fb1a721f",
   "metadata": {},
   "outputs": [],
   "source": [
    "loss = nn.MSELoss()"
   ]
  },
  {
   "cell_type": "code",
   "execution_count": 18,
   "id": "adbb42c4",
   "metadata": {},
   "outputs": [],
   "source": [
    "lr = 0.006"
   ]
  },
  {
   "cell_type": "code",
   "execution_count": 19,
   "id": "78cc93a1",
   "metadata": {},
   "outputs": [],
   "source": [
    "optim = torch.optim.Adam(autoencoder.parameters(), lr)"
   ]
  },
  {
   "cell_type": "code",
   "execution_count": 20,
   "id": "3a17b78a",
   "metadata": {},
   "outputs": [
    {
     "data": {
      "text/plain": [
       "60000"
      ]
     },
     "execution_count": 20,
     "metadata": {},
     "output_type": "execute_result"
    }
   ],
   "source": [
    "data = torch.stack(noisy_images_transformed)\n",
    "len(data)"
   ]
  },
  {
   "cell_type": "code",
   "execution_count": 21,
   "id": "13accc3b",
   "metadata": {},
   "outputs": [],
   "source": [
    "clear_images = [transform(image) for image in x_train]"
   ]
  },
  {
   "cell_type": "code",
   "execution_count": 22,
   "id": "005b676c",
   "metadata": {},
   "outputs": [],
   "source": [
    "data_clear = torch.stack(clear_images)"
   ]
  },
  {
   "cell_type": "code",
   "execution_count": 23,
   "id": "9780787f",
   "metadata": {},
   "outputs": [],
   "source": [
    "dataset_clear = TensorDataset(data_clear)"
   ]
  },
  {
   "cell_type": "code",
   "execution_count": 24,
   "id": "0b136b3f",
   "metadata": {},
   "outputs": [],
   "source": [
    "dataloader_clear = DataLoader(dataset_clear, batch_size=32, shuffle=False)"
   ]
  },
  {
   "cell_type": "code",
   "execution_count": 25,
   "id": "528cc94f",
   "metadata": {},
   "outputs": [],
   "source": [
    "dataset = TensorDataset(data)"
   ]
  },
  {
   "cell_type": "code",
   "execution_count": 26,
   "id": "658a93bd",
   "metadata": {},
   "outputs": [],
   "source": [
    "dataloader = DataLoader(dataset, batch_size=32, shuffle=False)"
   ]
  },
  {
   "cell_type": "code",
   "execution_count": 27,
   "id": "8d10ec19",
   "metadata": {},
   "outputs": [],
   "source": [
    "noisy_image = next(iter(dataloader))"
   ]
  },
  {
   "cell_type": "code",
   "execution_count": null,
   "id": "4d8b4153",
   "metadata": {},
   "outputs": [],
   "source": []
  },
  {
   "cell_type": "code",
   "execution_count": 28,
   "id": "14d0bdea",
   "metadata": {},
   "outputs": [],
   "source": [
    "def train_epoch(autoencoder, dataloader, optimizer):\n",
    "    loss_fn = nn.MSELoss()\n",
    "    for noisy_batch, clear_batch in zip(dataloader, dataloader_clear):\n",
    "        for noisy_image, clear_image in zip(noisy_batch, clear_batch):\n",
    "            decoded_data = autoencoder(noisy_image)\n",
    "            loss = loss_fn(decoded_data, clear_image)\n",
    "            \n",
    "            optimizer.zero_grad()\n",
    "            loss.backward()\n",
    "            optimizer.step()"
   ]
  },
  {
   "cell_type": "code",
   "execution_count": 29,
   "id": "ac66c18c",
   "metadata": {},
   "outputs": [],
   "source": [
    "epochs = 20"
   ]
  },
  {
   "cell_type": "code",
   "execution_count": 30,
   "id": "34d1daa0",
   "metadata": {},
   "outputs": [],
   "source": [
    "for epoch in range(epochs):\n",
    "    loss = train_epoch(autoencoder=autoencoder, dataloader=dataloader, optimizer=optim)"
   ]
  },
  {
   "cell_type": "code",
   "execution_count": 31,
   "id": "994a07ee",
   "metadata": {},
   "outputs": [],
   "source": [
    "device = \"cpu\""
   ]
  },
  {
   "cell_type": "code",
   "execution_count": 32,
   "id": "7b9c616d",
   "metadata": {},
   "outputs": [
    {
     "data": {
      "image/png": "[encoded data removed]",
      "text/plain": [
       "<Figure size 640x480 with 1 Axes>"
      ]
     },
     "metadata": {},
     "output_type": "display_data"
    }
   ],
   "source": [
    "plt.imshow(noisy_images[0], cmap=\"gray\")\n",
    "plt.show()"
   ]
  },
  {
   "cell_type": "code",
   "execution_count": 33,
   "id": "a1084193",
   "metadata": {},
   "outputs": [
    {
     "data": {
      "text/plain": [
       "torch.Tensor"
      ]
     },
     "execution_count": 33,
     "metadata": {},
     "output_type": "execute_result"
    }
   ],
   "source": [
    "predicted_image = autoencoder(noisy_images_transformed[0])\n",
    "type(predicted_image)"
   ]
  },
  {
   "cell_type": "code",
   "execution_count": 34,
   "id": "71567bb5",
   "metadata": {},
   "outputs": [],
   "source": [
    "predicted_image = predicted_image.detach().cpu().numpy()"
   ]
  },
  {
   "cell_type": "code",
   "execution_count": 35,
   "id": "488531c7",
   "metadata": {},
   "outputs": [
    {
     "data": {
      "text/plain": [
       "(1.2540064, -1.118816)"
      ]
     },
     "execution_count": 35,
     "metadata": {},
     "output_type": "execute_result"
    }
   ],
   "source": [
    "np.max(predicted_image), np.min(predicted_image)"
   ]
  },
  {
   "cell_type": "code",
   "execution_count": 36,
   "id": "db15d098",
   "metadata": {},
   "outputs": [
    {
     "data": {
      "image/png": "[encoded data removed]",
      "text/plain": [
       "<Figure size 640x480 with 1 Axes>"
      ]
     },
     "metadata": {},
     "output_type": "display_data"
    }
   ],
   "source": [
    "plt.imshow(np.reshape(predicted_image, (28,28,-1)), cmap=\"gray\")\n",
    "plt.show()"
   ]
  },
  {
   "cell_type": "code",
   "execution_count": null,
   "id": "25882db1",
   "metadata": {},
   "outputs": [],
   "source": []
  }
 ],
 "metadata": {
  "kernelspec": {
   "display_name": "Python 3 (ipykernel)",
   "language": "python",
   "name": "python3"
  },
  "language_info": {
   "codemirror_mode": {
    "name": "ipython",
    "version": 3
   },
   "file_extension": ".py",
   "mimetype": "text/x-python",
   "name": "python",
   "nbconvert_exporter": "python",
   "pygments_lexer": "ipython3",
   "version": "3.11.3"
  }
 },
 "nbformat": 4,
 "nbformat_minor": 5
}
