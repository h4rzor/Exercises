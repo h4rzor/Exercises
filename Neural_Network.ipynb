{
 "cells": [
  {
   "cell_type": "code",
   "execution_count": 1,
   "id": "3e65da25",
   "metadata": {},
   "outputs": [],
   "source": [
    "import random\n",
    "import math\n",
    "\n",
    "class Value:\n",
    "    def __init__(self, data, _children=(), _op=\"\", label=\"\"):\n",
    "        self.data = data\n",
    "        self.grad = 0.0\n",
    "        self._prev = set(_children)\n",
    "        self._backward = lambda: None\n",
    "        self._op = _op\n",
    "        self.label = label\n",
    "        \n",
    "    def __repr__(self):\n",
    "        return f\"Value(data={self.data})\"\n",
    "    \n",
    "    def __add__(self, other):\n",
    "        is_instance = isinstance(other, Value)\n",
    "        if not is_instance:\n",
    "            other = Value(other)\n",
    "        out = Value(self.data + other.data, (self, other), \"+\")\n",
    "        \n",
    "        def _backward():\n",
    "            self.grad += out.grad\n",
    "            other.grad += out.grad\n",
    "        out._backward = _backward\n",
    "        \n",
    "        return out\n",
    "    \n",
    "    def __radd__(self, other):\n",
    "        return self + other\n",
    "    \n",
    "    def __mul__(self, other):\n",
    "        is_instance = isinstance(other, Value)\n",
    "        if not is_instance:\n",
    "            other = Value(other)\n",
    "        out = Value(self.data * other.data, (self, other), \"*\")\n",
    "        \n",
    "        def _backward():\n",
    "            self.grad += other.data * out.grad\n",
    "            other.grad += self.data * out.grad\n",
    "        out._backward = _backward\n",
    "        \n",
    "        return out\n",
    "    \n",
    "    def __pow__(self,other):\n",
    "        out = Value(self.data ** other, (self, ), \"pow\")\n",
    "        \n",
    "        def _backward():\n",
    "            self.grad += (other * self.data**(other-1)) * out.grad\n",
    "        \n",
    "        out._backward = _backward\n",
    "        #Pravim *out.grad zashtoto e chain rule i ni trqbva da umnojim po negoviqt gradient, demek local gradient\n",
    "        # i out.grad\n",
    "        return out\n",
    "    \n",
    "    def __rmul__(self, other):\n",
    "        return self * other\n",
    "    \n",
    "    def tanh(self):\n",
    "        tanh = (math.exp(2*self.data) - 1 ) / (math.exp(2*self.data) + 1)\n",
    "        \n",
    "        out = Value(tanh, (self, ), \"tanh\")\n",
    "        \n",
    "        def _backward():\n",
    "            self.grad += (1 - tanh ** 2) * out.grad\n",
    "        out._backward = _backward\n",
    "        \n",
    "        return out\n",
    "    \n",
    "    def __neg__(self):\n",
    "        return self * -1\n",
    "    \n",
    "    def __sub__(self, other):\n",
    "        return self + (-other)\n",
    "    \n",
    "    def __rmul__(self, other):\n",
    "        return self * other\n",
    "    \n",
    "    \n",
    "    def exp(self):\n",
    "        expon_data = math.exp(self.data)\n",
    "        out = Value(expon_data, (self, ), \"exp\")\n",
    "        \n",
    "        def _backward():\n",
    "            self.grad += out.data * out.grad\n",
    "\n",
    "        out._backward = _backward()\n",
    "        \n",
    "        return out\n",
    "    \n",
    "    def relu(self):\n",
    "        out = Value(0 if self.data < 0 else self.data, (self, ), \"relu\")\n",
    "        \n",
    "        def _backward():\n",
    "            self.grad += (out.data > 0) * out.grad\n",
    "        out._backward = _backward\n",
    "        return out\n",
    "    \n",
    "    def backward(self):\n",
    "        topo = []\n",
    "        visited = set()\n",
    "        def build_topo(v):\n",
    "            if v not in visited:\n",
    "                visited.add(v)\n",
    "            for child in v._prev:\n",
    "                build_topo(child)\n",
    "            topo.append(v)\n",
    "        build_topo(self)\n",
    "        self.grad = 1\n",
    "        for node in reversed(topo):\n",
    "            node._backward()"
   ]
  },
  {
   "cell_type": "code",
   "execution_count": 2,
   "id": "b33d56ac",
   "metadata": {},
   "outputs": [],
   "source": [
    "class Neuron:\n",
    "    def __init__(self, n_inputs, nonlin=True):\n",
    "        self.weights = [Value(random.uniform(-1,1)) for _ in range(n_inputs)]\n",
    "        self.bias = Value(0)\n",
    "        self.nonlin = nonlin\n",
    "    \n",
    "    def parameters(self):\n",
    "        return self.weights + [self.bias]\n",
    "        \n",
    "    def __call__(self, x):\n",
    "        # tanh(Input * weights + bias)\n",
    "        #print(self.nonlin)\n",
    "        act = sum((wi*xi for wi,xi in zip(self.weights, x)), self.bias)\n",
    "        return act.relu() if self.nonlin else act"
   ]
  },
  {
   "cell_type": "code",
   "execution_count": 3,
   "id": "cbcfc2b2",
   "metadata": {},
   "outputs": [],
   "source": [
    "class Layer():\n",
    "\n",
    "    def __init__(self, nin, nout, **kwargs):\n",
    "        self.neurons = [Neuron(nin, **kwargs) for _ in range(nout)]\n",
    "\n",
    "    def __call__(self, x):\n",
    "        out = [n(x) for n in self.neurons]\n",
    "        return out[0] if len(out) == 1 else out\n",
    "\n",
    "    def parameters(self):\n",
    "        return [p for n in self.neurons for p in n.parameters()]"
   ]
  },
  {
   "cell_type": "code",
   "execution_count": 4,
   "id": "b2e33f3b",
   "metadata": {},
   "outputs": [],
   "source": [
    "class MLP():\n",
    "\n",
    "    def __init__(self, n_inputs, n_outputs):\n",
    "        sz = [n_inputs] + n_outputs\n",
    "        self.layers = [Layer(sz[i], sz[i+1], nonlin=i!=len(n_outputs)-1) for i in range(len(n_outputs))]\n",
    "\n",
    "    def __call__(self, x):\n",
    "        for layer in self.layers:\n",
    "            x = layer(x)\n",
    "        return x\n",
    "\n",
    "    def parameters(self):\n",
    "        return [p for layer in self.layers for p in layer.parameters()]"
   ]
  },
  {
   "cell_type": "code",
   "execution_count": 5,
   "id": "0f5c7f04",
   "metadata": {},
   "outputs": [],
   "source": [
    "mlp = MLP(3, [4,4,1])"
   ]
  },
  {
   "cell_type": "code",
   "execution_count": 6,
   "id": "6147329f",
   "metadata": {},
   "outputs": [],
   "source": [
    "xs = [\n",
    "    [2.0, 3.0, -1.0],\n",
    "    [4.0, 6.0, -2.2],\n",
    "    [8.3, 1.4, -1.9],\n",
    "    [1.1, 5.8, 1.0],\n",
    "]"
   ]
  },
  {
   "cell_type": "code",
   "execution_count": 7,
   "id": "adc9297b",
   "metadata": {},
   "outputs": [],
   "source": [
    "ys = [1.0, -3.0, -1.0, 1.0]"
   ]
  },
  {
   "cell_type": "code",
   "execution_count": 8,
   "id": "1d882e97",
   "metadata": {},
   "outputs": [],
   "source": [
    "def train():\n",
    "    for epoch in range(3000):\n",
    "        ypred = [mlp(x) for x in xs]\n",
    "        loss = sum((yp - y) ** 2 for yp, y in zip(ypred, ys))\n",
    "        for n in mlp.parameters():\n",
    "            n.grad = 0.0\n",
    "        loss.backward()\n",
    "        for p in mlp.parameters():\n",
    "            p.data += -0.0002 * p.grad\n",
    "        if(epoch % 200 == 0):\n",
    "            print(loss)\n",
    "    return ypred"
   ]
  },
  {
   "cell_type": "code",
   "execution_count": 9,
   "id": "dcc645d1",
   "metadata": {},
   "outputs": [
    {
     "name": "stdout",
     "output_type": "stream",
     "text": [
      "Value(data=18.096881163539607)\n",
      "Value(data=3.5530841425642383)\n",
      "Value(data=2.173890091189958)\n",
      "Value(data=1.0223679349405288)\n",
      "Value(data=0.23208099076841546)\n",
      "Value(data=0.10575184424636486)\n",
      "Value(data=0.004856782119797147)\n",
      "Value(data=0.0007539036988299458)\n",
      "Value(data=0.00010720966882858047)\n",
      "Value(data=1.4858642771425692e-05)\n",
      "Value(data=7.114519429936635e-06)\n",
      "Value(data=5.849400184690581e-07)\n",
      "Value(data=1.5404427335475734e-08)\n",
      "Value(data=4.054781726725657e-09)\n",
      "Value(data=4.1942462701935236e-10)\n"
     ]
    }
   ],
   "source": [
    "y_predicted = train()"
   ]
  },
  {
   "cell_type": "code",
   "execution_count": 10,
   "id": "fdbe5f63",
   "metadata": {},
   "outputs": [
    {
     "data": {
      "text/plain": [
       "[1, -3, -1, 1]"
      ]
     },
     "execution_count": 10,
     "metadata": {},
     "output_type": "execute_result"
    }
   ],
   "source": [
    "rounded_values = [round(val.data) for val in y_predicted]\n",
    "rounded_values"
   ]
  },
  {
   "cell_type": "code",
   "execution_count": 11,
   "id": "66ccf10c",
   "metadata": {},
   "outputs": [
    {
     "data": {
      "text/plain": [
       "[1.0, -3.0, -1.0, 1.0]"
      ]
     },
     "execution_count": 11,
     "metadata": {},
     "output_type": "execute_result"
    }
   ],
   "source": [
    "ys"
   ]
  },
  {
   "cell_type": "code",
   "execution_count": null,
   "id": "ac62fa7b",
   "metadata": {},
   "outputs": [],
   "source": []
  }
 ],
 "metadata": {
  "kernelspec": {
   "display_name": "Python 3 (ipykernel)",
   "language": "python",
   "name": "python3"
  },
  "language_info": {
   "codemirror_mode": {
    "name": "ipython",
    "version": 3
   },
   "file_extension": ".py",
   "mimetype": "text/x-python",
   "name": "python",
   "nbconvert_exporter": "python",
   "pygments_lexer": "ipython3",
   "version": "3.11.3"
  }
 },
 "nbformat": 4,
 "nbformat_minor": 5
}
