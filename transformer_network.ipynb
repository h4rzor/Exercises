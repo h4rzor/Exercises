{
 "cells": [
  {
   "cell_type": "code",
   "execution_count": 215,
   "id": "ab0adacb",
   "metadata": {},
   "outputs": [],
   "source": [
    "import numpy as np\n",
    "import matplotlib.pyplot as plt\n",
    "import torch\n",
    "from torch import nn\n",
    "import torch.nn.functional as F\n",
    "import math"
   ]
  },
  {
   "cell_type": "code",
   "execution_count": 17,
   "id": "3d411731",
   "metadata": {},
   "outputs": [],
   "source": [
    "with open(\"text.txt\",\"r\") as file:\n",
    "    text = file.read()"
   ]
  },
  {
   "cell_type": "code",
   "execution_count": 35,
   "id": "d50c7d3e",
   "metadata": {},
   "outputs": [],
   "source": [
    "itos = {index: char for index, char in enumerate(vocab_size)}"
   ]
  },
  {
   "cell_type": "code",
   "execution_count": 33,
   "id": "507b28a6",
   "metadata": {},
   "outputs": [],
   "source": [
    "vocab_size = sorted(set(text))"
   ]
  },
  {
   "cell_type": "code",
   "execution_count": 37,
   "id": "b6ad6c31",
   "metadata": {},
   "outputs": [],
   "source": [
    "stoi = {index: char for char, index in enumerate(vocab_size)}"
   ]
  },
  {
   "cell_type": "code",
   "execution_count": null,
   "id": "fa53244e",
   "metadata": {},
   "outputs": [],
   "source": []
  },
  {
   "cell_type": "code",
   "execution_count": 50,
   "id": "7f0d5315",
   "metadata": {},
   "outputs": [],
   "source": [
    "encode = lambda x: [stoi[s] for s in x]"
   ]
  },
  {
   "cell_type": "code",
   "execution_count": 380,
   "id": "bd43c20c",
   "metadata": {},
   "outputs": [],
   "source": [
    "decode = lambda x: [itos[s] for s in x]"
   ]
  },
  {
   "cell_type": "code",
   "execution_count": 381,
   "id": "b795ca4f",
   "metadata": {},
   "outputs": [
    {
     "data": {
      "text/plain": [
       "[46, 47, 47, 1, 58, 46, 43, 56, 43]"
      ]
     },
     "execution_count": 381,
     "metadata": {},
     "output_type": "execute_result"
    }
   ],
   "source": [
    "encoded = encode(\"hii there\")\n",
    "encoded"
   ]
  },
  {
   "cell_type": "code",
   "execution_count": 382,
   "id": "c3524f84",
   "metadata": {},
   "outputs": [
    {
     "data": {
      "text/plain": [
       "['h', 'i', 'i', ' ', 't', 'h', 'e', 'r', 'e']"
      ]
     },
     "execution_count": 382,
     "metadata": {},
     "output_type": "execute_result"
    }
   ],
   "source": [
    "decoded = decode(encoded)\n",
    "decoded"
   ]
  },
  {
   "cell_type": "code",
   "execution_count": 59,
   "id": "2aeda9a6",
   "metadata": {},
   "outputs": [],
   "source": [
    "data = torch.tensor(encode(text), dtype=torch.long)"
   ]
  },
  {
   "cell_type": "code",
   "execution_count": 63,
   "id": "8fc51973",
   "metadata": {},
   "outputs": [],
   "source": [
    "train_data = data[:int(0.9 * len(data))]"
   ]
  },
  {
   "cell_type": "code",
   "execution_count": 64,
   "id": "ab318a65",
   "metadata": {},
   "outputs": [],
   "source": [
    "val_data = data[int(0.9 * len(data)):]"
   ]
  },
  {
   "cell_type": "code",
   "execution_count": 65,
   "id": "aec1f56a",
   "metadata": {},
   "outputs": [],
   "source": [
    "assert len(data) == len(train_data) + len(val_data)"
   ]
  },
  {
   "cell_type": "code",
   "execution_count": 66,
   "id": "242b6bce",
   "metadata": {},
   "outputs": [],
   "source": [
    "block_size = 8"
   ]
  },
  {
   "cell_type": "code",
   "execution_count": 68,
   "id": "6a2d385c",
   "metadata": {},
   "outputs": [
    {
     "data": {
      "text/plain": [
       "tensor([18, 47, 56, 57, 58,  1, 15, 47])"
      ]
     },
     "execution_count": 68,
     "metadata": {},
     "output_type": "execute_result"
    }
   ],
   "source": [
    "x = train_data[:block_size]\n",
    "x"
   ]
  },
  {
   "cell_type": "code",
   "execution_count": 70,
   "id": "3ec6c142",
   "metadata": {},
   "outputs": [
    {
     "data": {
      "text/plain": [
       "tensor(58)"
      ]
     },
     "execution_count": 70,
     "metadata": {},
     "output_type": "execute_result"
    }
   ],
   "source": [
    "y = train_data[block_size]\n",
    "y"
   ]
  },
  {
   "cell_type": "code",
   "execution_count": 93,
   "id": "199c23c4",
   "metadata": {},
   "outputs": [],
   "source": [
    "block_size = 8\n",
    "batch_size = 4"
   ]
  },
  {
   "cell_type": "code",
   "execution_count": 94,
   "id": "b26045d5",
   "metadata": {},
   "outputs": [
    {
     "data": {
      "text/plain": [
       "<torch._C.Generator at 0x7fd3cbd4fcf0>"
      ]
     },
     "execution_count": 94,
     "metadata": {},
     "output_type": "execute_result"
    }
   ],
   "source": [
    "torch.manual_seed(1337)"
   ]
  },
  {
   "cell_type": "code",
   "execution_count": 95,
   "id": "eec9aca1",
   "metadata": {},
   "outputs": [],
   "source": [
    "#We have x as an input and we have the target number as y"
   ]
  },
  {
   "cell_type": "code",
   "execution_count": 96,
   "id": "116b8898",
   "metadata": {},
   "outputs": [
    {
     "name": "stdout",
     "output_type": "stream",
     "text": [
      "inp is: tensor([18]); out is: 56\n",
      "inp is: tensor([18, 47]); out is: 57\n",
      "inp is: tensor([18, 47, 56]); out is: 58\n",
      "inp is: tensor([18, 47, 56, 57]); out is: 1\n",
      "inp is: tensor([18, 47, 56, 57, 58]); out is: 15\n",
      "inp is: tensor([18, 47, 56, 57, 58,  1]); out is: 47\n"
     ]
    }
   ],
   "source": [
    "for i in range(1, len(x) - 1):\n",
    "    inp = x[:i]\n",
    "    out = x[i+1]\n",
    "    print(f\"inp is: {inp}; out is: {out}\")"
   ]
  },
  {
   "cell_type": "code",
   "execution_count": 154,
   "id": "fde019b1",
   "metadata": {},
   "outputs": [],
   "source": [
    "def get_batch(split):\n",
    "    data = train_data if split == \"train\" else val_data\n",
    "    index = torch.randint(len(data) - block_size, (batch_size, ))\n",
    "    x = torch.stack([train_data[i:i+block_size] for i in index])\n",
    "    y = torch.stack([train_data[i+1:i+block_size+1] for i in index])\n",
    "    return x,y "
   ]
  },
  {
   "cell_type": "code",
   "execution_count": 155,
   "id": "a5c2b1b0",
   "metadata": {},
   "outputs": [
    {
     "data": {
      "text/plain": [
       "tensor([894151, 111683, 537766, 851008])"
      ]
     },
     "execution_count": 155,
     "metadata": {},
     "output_type": "execute_result"
    }
   ],
   "source": [
    "index = torch.randint(len(train_data) - block_size, (batch_size, ))\n",
    "index"
   ]
  },
  {
   "cell_type": "code",
   "execution_count": 156,
   "id": "08d15e05",
   "metadata": {},
   "outputs": [],
   "source": [
    "x = torch.stack([train_data[i:i+block_size] for i in index])"
   ]
  },
  {
   "cell_type": "code",
   "execution_count": 157,
   "id": "b8c491ba",
   "metadata": {},
   "outputs": [],
   "source": [
    "y = torch.stack([train_data[i+1:i+block_size+1] for i in index])"
   ]
  },
  {
   "cell_type": "code",
   "execution_count": 158,
   "id": "3b58c6da",
   "metadata": {},
   "outputs": [
    {
     "data": {
      "text/plain": [
       "tensor([[ 1, 39, 52, 42,  1, 61, 56, 53],\n",
       "        [46, 58,  1, 58, 53,  1, 46, 39],\n",
       "        [39, 58,  1, 57, 43, 43, 57,  1],\n",
       "        [39, 52, 42,  1, 58, 46, 43,  0]])"
      ]
     },
     "execution_count": 158,
     "metadata": {},
     "output_type": "execute_result"
    }
   ],
   "source": [
    "x"
   ]
  },
  {
   "cell_type": "code",
   "execution_count": 159,
   "id": "36eb89b4",
   "metadata": {},
   "outputs": [
    {
     "data": {
      "text/plain": [
       "tensor([[39, 52, 42,  1, 61, 56, 53, 52],\n",
       "        [58,  1, 58, 53,  1, 46, 39, 60],\n",
       "        [58,  1, 57, 43, 43, 57,  1, 47],\n",
       "        [52, 42,  1, 58, 46, 43,  0, 60]])"
      ]
     },
     "execution_count": 159,
     "metadata": {},
     "output_type": "execute_result"
    }
   ],
   "source": [
    "y"
   ]
  },
  {
   "cell_type": "code",
   "execution_count": 160,
   "id": "7cc6dac0",
   "metadata": {},
   "outputs": [],
   "source": [
    "xb, yb = get_batch(\"train\")"
   ]
  },
  {
   "cell_type": "code",
   "execution_count": null,
   "id": "e20e4b51",
   "metadata": {},
   "outputs": [],
   "source": []
  },
  {
   "cell_type": "code",
   "execution_count": 365,
   "id": "86e8d1fd",
   "metadata": {},
   "outputs": [],
   "source": [
    "class Model(nn.Module):\n",
    "    def __init__(self, vocab_size):\n",
    "        super().__init__()\n",
    "        self.embedding_layer = nn.Embedding(vocab_size, vocab_size)\n",
    "    \n",
    "    def forward(self, index, targets=None):\n",
    "        output = self.embedding_layer(index)\n",
    "        if targets is None:\n",
    "            loss = None\n",
    "        else:\n",
    "            loss = F.cross_entropy(output.view(batch_size * block_size, -1), yb.view(-1))\n",
    "        \n",
    "        return output, loss\n",
    "    \n",
    "    def generate(self, index, max_new_token):\n",
    "        for i in range(max_new_token):\n",
    "            output, loss = self(index)\n",
    "            output = output[:, -1, :].softmax(-1)\n",
    "            index_next = torch.multinomial(output, num_samples=1)\n",
    "            index = torch.cat((index, index_next), dim=1)\n",
    "        return index"
   ]
  },
  {
   "cell_type": "code",
   "execution_count": 366,
   "id": "9ac447d0",
   "metadata": {},
   "outputs": [],
   "source": [
    "model = Model(len(vocab_size))"
   ]
  },
  {
   "cell_type": "code",
   "execution_count": 367,
   "id": "99dbd01b",
   "metadata": {},
   "outputs": [],
   "source": [
    "logits, loss = model(xb, yb)"
   ]
  },
  {
   "cell_type": "code",
   "execution_count": 368,
   "id": "01e83668",
   "metadata": {},
   "outputs": [
    {
     "data": {
      "text/plain": [
       "torch.Size([4, 8, 65])"
      ]
     },
     "execution_count": 368,
     "metadata": {},
     "output_type": "execute_result"
    }
   ],
   "source": [
    "logits.shape"
   ]
  },
  {
   "cell_type": "code",
   "execution_count": 373,
   "id": "719fe152",
   "metadata": {},
   "outputs": [
    {
     "data": {
      "text/plain": [
       "4.174387269895637"
      ]
     },
     "execution_count": 373,
     "metadata": {},
     "output_type": "execute_result"
    }
   ],
   "source": [
    "-math.log(1/len(vocab_size)) #So the model is very convoluted at the moment\n",
    "#The lowest error should be 4.1, but it's higher"
   ]
  },
  {
   "cell_type": "code",
   "execution_count": null,
   "id": "1ca0b647",
   "metadata": {},
   "outputs": [],
   "source": []
  },
  {
   "cell_type": "code",
   "execution_count": null,
   "id": "f885a79a",
   "metadata": {},
   "outputs": [],
   "source": []
  },
  {
   "cell_type": "code",
   "execution_count": 386,
   "id": "78a90738",
   "metadata": {},
   "outputs": [
    {
     "data": {
      "text/plain": [
       "\"\\n!Nreh;fSYtuvtuqaAkSH\\ngrTVUg'atuUzCN, efnlUHcRxoYhNZU;utDEEFFXUCzuXKGaLCFhp!T?g;aULdLR.syWAn,LGGeeYEq\""
      ]
     },
     "execution_count": 386,
     "metadata": {},
     "output_type": "execute_result"
    }
   ],
   "source": [
    "output = decode(model.generate(index = torch.zeros((1, 1), dtype=torch.long), max_new_token=100)[0].tolist())\n",
    "output = \"\".join(output)\n",
    "output"
   ]
  },
  {
   "cell_type": "code",
   "execution_count": null,
   "id": "645d0ac8",
   "metadata": {},
   "outputs": [],
   "source": []
  }
 ],
 "metadata": {
  "kernelspec": {
   "display_name": "Python 3 (ipykernel)",
   "language": "python",
   "name": "python3"
  },
  "language_info": {
   "codemirror_mode": {
    "name": "ipython",
    "version": 3
   },
   "file_extension": ".py",
   "mimetype": "text/x-python",
   "name": "python",
   "nbconvert_exporter": "python",
   "pygments_lexer": "ipython3",
   "version": "3.11.3"
  }
 },
 "nbformat": 4,
 "nbformat_minor": 5
}
