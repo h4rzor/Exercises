{
 "cells": [
  {
   "cell_type": "code",
   "execution_count": 1,
   "id": "9c5b5a52",
   "metadata": {},
   "outputs": [],
   "source": [
    "import numpy as np\n",
    "import torch\n",
    "import torch.nn.functional as F\n",
    "import matplotlib.pyplot as plt"
   ]
  },
  {
   "cell_type": "code",
   "execution_count": 2,
   "id": "d24b871f",
   "metadata": {},
   "outputs": [
    {
     "data": {
      "text/plain": [
       "['emma', 'olivia', 'ava', 'isabella', 'sophia']"
      ]
     },
     "execution_count": 2,
     "metadata": {},
     "output_type": "execute_result"
    }
   ],
   "source": [
    "names = open(\"names2.txt\",\"r\").read().split(\"\\n\")\n",
    "names[:5]"
   ]
  },
  {
   "cell_type": "code",
   "execution_count": 3,
   "id": "feb956dc",
   "metadata": {},
   "outputs": [],
   "source": [
    "chars = sorted(set(\"\".join(names)))"
   ]
  },
  {
   "cell_type": "code",
   "execution_count": 4,
   "id": "2c5885cf",
   "metadata": {},
   "outputs": [
    {
     "data": {
      "text/plain": [
       "26"
      ]
     },
     "execution_count": 4,
     "metadata": {},
     "output_type": "execute_result"
    }
   ],
   "source": [
    "len(chars)"
   ]
  },
  {
   "cell_type": "code",
   "execution_count": null,
   "id": "65995739",
   "metadata": {},
   "outputs": [],
   "source": []
  },
  {
   "cell_type": "code",
   "execution_count": 5,
   "id": "98ccc20f",
   "metadata": {},
   "outputs": [],
   "source": [
    "#itos = dict()\n",
    "#stoi = dict()\n",
    "\n",
    "stoi = {s:i+1 for i,s in enumerate(chars)}\n",
    "stoi['.'] = 0\n",
    "\n",
    "itos = {i: s for s, i in stoi.items()}"
   ]
  },
  {
   "cell_type": "code",
   "execution_count": 6,
   "id": "1c4fa026",
   "metadata": {},
   "outputs": [
    {
     "data": {
      "text/plain": [
       "{'a': 1,\n",
       " 'b': 2,\n",
       " 'c': 3,\n",
       " 'd': 4,\n",
       " 'e': 5,\n",
       " 'f': 6,\n",
       " 'g': 7,\n",
       " 'h': 8,\n",
       " 'i': 9,\n",
       " 'j': 10,\n",
       " 'k': 11,\n",
       " 'l': 12,\n",
       " 'm': 13,\n",
       " 'n': 14,\n",
       " 'o': 15,\n",
       " 'p': 16,\n",
       " 'q': 17,\n",
       " 'r': 18,\n",
       " 's': 19,\n",
       " 't': 20,\n",
       " 'u': 21,\n",
       " 'v': 22,\n",
       " 'w': 23,\n",
       " 'x': 24,\n",
       " 'y': 25,\n",
       " 'z': 26,\n",
       " '.': 0}"
      ]
     },
     "execution_count": 6,
     "metadata": {},
     "output_type": "execute_result"
    }
   ],
   "source": [
    "stoi"
   ]
  },
  {
   "cell_type": "code",
   "execution_count": 7,
   "id": "ba22ed4d",
   "metadata": {},
   "outputs": [
    {
     "data": {
      "text/plain": [
       "'prepare x, y\\n    x e purvite tri charactera ot dumite, kato v nachaloto sa tri tochki\\n    y e defakto chetvurtiq character sled tretite'"
      ]
     },
     "execution_count": 7,
     "metadata": {},
     "output_type": "execute_result"
    }
   ],
   "source": [
    "\"\"\"prepare x, y\n",
    "    x e purvite tri charactera ot dumite, kato v nachaloto sa tri tochki\n",
    "    y e defakto chetvurtiq character sled tretite\"\"\""
   ]
  },
  {
   "cell_type": "code",
   "execution_count": 8,
   "id": "1c9056a8",
   "metadata": {},
   "outputs": [],
   "source": [
    "X, y = [], []"
   ]
  },
  {
   "cell_type": "code",
   "execution_count": 9,
   "id": "bb1e0021",
   "metadata": {},
   "outputs": [],
   "source": [
    "block_size = 3\n",
    "\n",
    "for w in names:\n",
    "    context = block_size * [0]\n",
    "    for ch in w + \".\":\n",
    "        idx = stoi[ch]\n",
    "        X.append(context)\n",
    "        y.append(idx)\n",
    "        context = context[1:] + [idx]\n",
    "\n",
    "X = torch.tensor(X)\n",
    "y = torch.tensor(y)"
   ]
  },
  {
   "cell_type": "code",
   "execution_count": 10,
   "id": "a0a19829",
   "metadata": {},
   "outputs": [
    {
     "data": {
      "text/plain": [
       "(tensor([0, 0, 0]), tensor(5))"
      ]
     },
     "execution_count": 10,
     "metadata": {},
     "output_type": "execute_result"
    }
   ],
   "source": [
    "X[0], y[0]"
   ]
  },
  {
   "cell_type": "code",
   "execution_count": 11,
   "id": "c3aebe50",
   "metadata": {},
   "outputs": [
    {
     "data": {
      "text/plain": [
       "228147"
      ]
     },
     "execution_count": 11,
     "metadata": {},
     "output_type": "execute_result"
    }
   ],
   "source": [
    "len(X)"
   ]
  },
  {
   "cell_type": "code",
   "execution_count": 12,
   "id": "83190172",
   "metadata": {},
   "outputs": [
    {
     "data": {
      "text/plain": [
       "182517"
      ]
     },
     "execution_count": 12,
     "metadata": {},
     "output_type": "execute_result"
    }
   ],
   "source": [
    "n1 = int(0.8*len(X))\n",
    "n1"
   ]
  },
  {
   "cell_type": "code",
   "execution_count": 13,
   "id": "63254fd2",
   "metadata": {},
   "outputs": [],
   "source": [
    "n2 = int(0.9*len(X))"
   ]
  },
  {
   "cell_type": "code",
   "execution_count": 14,
   "id": "703f8903",
   "metadata": {},
   "outputs": [],
   "source": [
    "Xtr, Ytr = X[:n1], y[:n1]\n",
    "Xtest, Ytest = X[n1:n2], y[n1:n2]\n",
    "Xdev, Ydev = X[n2:], y[n2:]"
   ]
  },
  {
   "cell_type": "code",
   "execution_count": 15,
   "id": "83763445",
   "metadata": {},
   "outputs": [],
   "source": [
    "C = torch.randn((27,2))"
   ]
  },
  {
   "cell_type": "code",
   "execution_count": null,
   "id": "c0b8a11a",
   "metadata": {},
   "outputs": [],
   "source": []
  },
  {
   "cell_type": "code",
   "execution_count": 16,
   "id": "efe4fe79",
   "metadata": {},
   "outputs": [
    {
     "name": "stdout",
     "output_type": "stream",
     "text": [
      "torch.Size([5, 5])\n",
      "torch.Size([2, 2])\n",
      "torch.Size([2, 2, 5])\n"
     ]
    },
    {
     "data": {
      "text/plain": [
       "tensor([[[ 1.3270, -1.7552, -0.8155, -0.4593,  0.6982],\n",
       "         [ 0.0300, -0.5009, -1.5291,  1.3961,  0.5216]],\n",
       "\n",
       "        [[ 1.3270, -1.7552, -0.8155, -0.4593,  0.6982],\n",
       "         [ 0.3395,  0.4225,  0.2092,  1.7529,  1.2053]]])"
      ]
     },
     "execution_count": 16,
     "metadata": {},
     "output_type": "execute_result"
    }
   ],
   "source": [
    "r = torch.randn(5,5)\n",
    "xtr = torch.randint(0,5,(2,2), dtype=torch.long)\n",
    "print(r.shape)\n",
    "print(xtr.shape)\n",
    "print(r[xtr].shape)\n",
    "r[xtr]"
   ]
  },
  {
   "cell_type": "code",
   "execution_count": 17,
   "id": "36ea47b7",
   "metadata": {},
   "outputs": [
    {
     "data": {
      "text/plain": [
       "tensor([[ 0.0300, -0.5009, -1.5291,  1.3961,  0.5216],\n",
       "        [ 1.3270, -1.7552, -0.8155, -0.4593,  0.6982],\n",
       "        [-1.2592, -1.3035, -0.1389,  0.4660, -1.7260],\n",
       "        [-1.0570, -0.1108,  0.9054,  0.2085, -1.0275],\n",
       "        [ 0.3395,  0.4225,  0.2092,  1.7529,  1.2053]])"
      ]
     },
     "execution_count": 17,
     "metadata": {},
     "output_type": "execute_result"
    }
   ],
   "source": [
    "r"
   ]
  },
  {
   "cell_type": "code",
   "execution_count": 18,
   "id": "d1a014bc",
   "metadata": {},
   "outputs": [
    {
     "data": {
      "text/plain": [
       "tensor([[1, 0],\n",
       "        [1, 4]])"
      ]
     },
     "execution_count": 18,
     "metadata": {},
     "output_type": "execute_result"
    }
   ],
   "source": [
    "xtr"
   ]
  },
  {
   "cell_type": "code",
   "execution_count": null,
   "id": "52447111",
   "metadata": {},
   "outputs": [],
   "source": []
  },
  {
   "cell_type": "code",
   "execution_count": null,
   "id": "93965a58",
   "metadata": {},
   "outputs": [],
   "source": []
  },
  {
   "cell_type": "code",
   "execution_count": 19,
   "id": "1931af01",
   "metadata": {},
   "outputs": [
    {
     "data": {
      "text/plain": [
       "torch.Size([182517, 3])"
      ]
     },
     "execution_count": 19,
     "metadata": {},
     "output_type": "execute_result"
    }
   ],
   "source": [
    "Xtr.shape"
   ]
  },
  {
   "cell_type": "code",
   "execution_count": 20,
   "id": "09906861",
   "metadata": {},
   "outputs": [
    {
     "data": {
      "text/plain": [
       "torch.Size([182517, 3, 2])"
      ]
     },
     "execution_count": 20,
     "metadata": {},
     "output_type": "execute_result"
    }
   ],
   "source": [
    "C[Xtr].shape"
   ]
  },
  {
   "cell_type": "code",
   "execution_count": 21,
   "id": "83ee43d1",
   "metadata": {},
   "outputs": [],
   "source": [
    "embedding = C[Xtr]"
   ]
  },
  {
   "cell_type": "code",
   "execution_count": 22,
   "id": "efda4cdd",
   "metadata": {},
   "outputs": [
    {
     "data": {
      "text/plain": [
       "torch.Size([182517, 3, 2])"
      ]
     },
     "execution_count": 22,
     "metadata": {},
     "output_type": "execute_result"
    }
   ],
   "source": [
    "embedding.shape"
   ]
  },
  {
   "cell_type": "code",
   "execution_count": 23,
   "id": "22f857f7",
   "metadata": {},
   "outputs": [],
   "source": [
    "g = torch.Generator().manual_seed(42)\n",
    "\n",
    "w1 = torch.randn((6, 100), requires_grad=True)\n",
    "b1 = torch.randn(100, requires_grad=True)\n",
    "\n",
    "w2 = torch.randn((100,27), requires_grad=True)\n",
    "b2 = torch.randn(27, requires_grad=True)"
   ]
  },
  {
   "cell_type": "code",
   "execution_count": 24,
   "id": "90c0b179",
   "metadata": {},
   "outputs": [],
   "source": [
    "#forward pass\n",
    "emb_resized = embedding.view(-1, 6)"
   ]
  },
  {
   "cell_type": "code",
   "execution_count": 25,
   "id": "4504891c",
   "metadata": {},
   "outputs": [
    {
     "data": {
      "text/plain": [
       "torch.Size([182517, 100])"
      ]
     },
     "execution_count": 25,
     "metadata": {},
     "output_type": "execute_result"
    }
   ],
   "source": [
    "logits1 = torch.tanh((emb_resized @ w1) + b1)\n",
    "logits1.shape"
   ]
  },
  {
   "cell_type": "code",
   "execution_count": 26,
   "id": "29f8e85c",
   "metadata": {},
   "outputs": [
    {
     "data": {
      "text/plain": [
       "torch.Size([182517, 27])"
      ]
     },
     "execution_count": 26,
     "metadata": {},
     "output_type": "execute_result"
    }
   ],
   "source": [
    "logits2 = (logits1 @ w2) + b2\n",
    "logits2.shape"
   ]
  },
  {
   "cell_type": "code",
   "execution_count": 27,
   "id": "aa37a9b2",
   "metadata": {},
   "outputs": [],
   "source": [
    "exp_logits = torch.exp(logits2)"
   ]
  },
  {
   "cell_type": "code",
   "execution_count": 28,
   "id": "cc45a29a",
   "metadata": {},
   "outputs": [],
   "source": [
    "softmax_layer = exp_logits / exp_logits.sum(1, keepdims=True)"
   ]
  },
  {
   "cell_type": "code",
   "execution_count": 29,
   "id": "f87237d1",
   "metadata": {},
   "outputs": [
    {
     "data": {
      "text/plain": [
       "tensor(1., grad_fn=<SumBackward0>)"
      ]
     },
     "execution_count": 29,
     "metadata": {},
     "output_type": "execute_result"
    }
   ],
   "source": [
    "softmax_layer[0].sum()"
   ]
  },
  {
   "cell_type": "code",
   "execution_count": 30,
   "id": "4bd43a95",
   "metadata": {},
   "outputs": [
    {
     "data": {
      "text/plain": [
       "torch.Size([182517, 27])"
      ]
     },
     "execution_count": 30,
     "metadata": {},
     "output_type": "execute_result"
    }
   ],
   "source": [
    "softmax_layer.shape"
   ]
  },
  {
   "cell_type": "code",
   "execution_count": 31,
   "id": "76fb40e9",
   "metadata": {},
   "outputs": [
    {
     "data": {
      "text/plain": [
       "torch.Size([182517])"
      ]
     },
     "execution_count": 31,
     "metadata": {},
     "output_type": "execute_result"
    }
   ],
   "source": [
    "Ytr.shape"
   ]
  },
  {
   "cell_type": "code",
   "execution_count": 32,
   "id": "c2246791",
   "metadata": {},
   "outputs": [],
   "source": [
    "loss = -softmax_layer[torch.arange(0,182517), Ytr].log().mean()"
   ]
  },
  {
   "cell_type": "code",
   "execution_count": 33,
   "id": "ff14ac35",
   "metadata": {},
   "outputs": [],
   "source": [
    "# training loop:"
   ]
  },
  {
   "cell_type": "code",
   "execution_count": 34,
   "id": "975e9593",
   "metadata": {},
   "outputs": [],
   "source": [
    "parameters = [C, w1, w2, b1, b2]"
   ]
  },
  {
   "cell_type": "code",
   "execution_count": 35,
   "id": "eedd0364",
   "metadata": {},
   "outputs": [],
   "source": [
    "for param in parameters:\n",
    "    param.requires_grad = True"
   ]
  },
  {
   "cell_type": "code",
   "execution_count": 36,
   "id": "877df4e0",
   "metadata": {},
   "outputs": [],
   "source": [
    "lossi = []\n",
    "stepi = []"
   ]
  },
  {
   "cell_type": "code",
   "execution_count": 37,
   "id": "9e8c7edc",
   "metadata": {},
   "outputs": [
    {
     "name": "stdout",
     "output_type": "stream",
     "text": [
      "tensor(2.4956, grad_fn=<NegBackward0>)\n"
     ]
    }
   ],
   "source": [
    "for i in range(200_000):\n",
    "    ix = torch.randint(embedding.shape[0], (32, ))\n",
    "    \n",
    "    emb = C[Xtr[ix]].view(32, -1)\n",
    "    \n",
    "    out1 = torch.tanh((emb @ w1) + b1)\n",
    "    \n",
    "    out2 = (out1 @ w2) + b2\n",
    "    \n",
    "    exp_out = torch.exp(out2)\n",
    "    softmax_layer = exp_out / exp_out.sum(1, keepdims=True)\n",
    "    loss = -softmax_layer[torch.arange(32), Ytr[ix]].log().mean()\n",
    "    \n",
    "    \n",
    "    #loss_f = F.cross_entropy(out2, Ytr[ix])\n",
    "    \n",
    "    for elem in parameters:\n",
    "        elem.grad = None\n",
    "    \n",
    "    loss.backward()\n",
    "    \n",
    "    \n",
    "    for elem in parameters:\n",
    "        if i < 100_000:\n",
    "            lr = 0.1\n",
    "        elif i > 100_000 and i < 150_000:\n",
    "            lr = 0.01\n",
    "        else:\n",
    "            lr = 0.001\n",
    "            \n",
    "        elem.data += -lr * elem.grad\n",
    "    \n",
    "    stepi.append(i)\n",
    "    lossi.append(loss.log10().item())\n",
    "print(loss)"
   ]
  },
  {
   "cell_type": "code",
   "execution_count": 38,
   "id": "67167485",
   "metadata": {},
   "outputs": [
    {
     "data": {
      "text/plain": [
       "[<matplotlib.lines.Line2D at 0x7fbc405d0b50>]"
      ]
     },
     "execution_count": 38,
     "metadata": {},
     "output_type": "execute_result"
    },
    {
     "data": {
      "image/png": "[encoded data removed]",
      "text/plain": [
       "<Figure size 640x480 with 1 Axes>"
      ]
     },
     "metadata": {},
     "output_type": "display_data"
    }
   ],
   "source": [
    "plt.plot(stepi, lossi)"
   ]
  },
  {
   "cell_type": "code",
   "execution_count": 39,
   "id": "a21610fd",
   "metadata": {},
   "outputs": [
    {
     "data": {
      "text/plain": [
       "2.225853204727173"
      ]
     },
     "execution_count": 39,
     "metadata": {},
     "output_type": "execute_result"
    }
   ],
   "source": [
    "emb = C[Xtr]\n",
    "emb = emb.view(-1, 6)\n",
    "out1 = torch.tanh((emb @ w1) + b1)\n",
    "out2 = (out1 @ w2) + b2\n",
    "loss = F.cross_entropy(out2, Ytr)\n",
    "loss.item()"
   ]
  },
  {
   "cell_type": "code",
   "execution_count": 40,
   "id": "a4c6d63d",
   "metadata": {},
   "outputs": [
    {
     "data": {
      "text/plain": [
       "2.4670512676239014"
      ]
     },
     "execution_count": 40,
     "metadata": {},
     "output_type": "execute_result"
    }
   ],
   "source": [
    "emb = C[Xtest]\n",
    "emb = emb.view(-1, 6)\n",
    "out1 = torch.tanh((emb @ w1) + b1)\n",
    "out2 = (out1 @ w2) + b2\n",
    "loss = F.cross_entropy(out2, Ytest)\n",
    "loss.item()"
   ]
  },
  {
   "cell_type": "code",
   "execution_count": 41,
   "id": "b8d06bfe",
   "metadata": {},
   "outputs": [
    {
     "data": {
      "image/png": "[encoded data removed]",
      "text/plain": [
       "<Figure size 800x800 with 1 Axes>"
      ]
     },
     "metadata": {},
     "output_type": "display_data"
    }
   ],
   "source": [
    "plt.figure(figsize=(8,8))\n",
    "plt.scatter(C[:,0].data, C[:,1].data, s=200)\n",
    "for i in range(C.shape[0]):\n",
    "    plt.text(C[i,0].item(), C[i,1].item(), itos[i], ha=\"center\", va=\"center\", color='white')\n",
    "plt.grid('minor')"
   ]
  },
  {
   "cell_type": "code",
   "execution_count": 42,
   "id": "eaa1426d",
   "metadata": {},
   "outputs": [
    {
     "name": "stdout",
     "output_type": "stream",
     "text": [
      "[0, 0, 0]\n",
      "torch.Size([27, 2])\n"
     ]
    },
    {
     "data": {
      "text/plain": [
       "torch.Size([1, 3, 2])"
      ]
     },
     "execution_count": 42,
     "metadata": {},
     "output_type": "execute_result"
    }
   ],
   "source": [
    "context = [0] * block_size\n",
    "print(context)\n",
    "print(C.shape)\n",
    "C[torch.tensor([context])].shape"
   ]
  },
  {
   "cell_type": "code",
   "execution_count": 44,
   "id": "e676fb76",
   "metadata": {},
   "outputs": [
    {
     "name": "stdout",
     "output_type": "stream",
     "text": [
      "junide.\n",
      "jakalah.\n",
      "presay.\n",
      "adin.\n",
      "koi.\n",
      "ritolian.\n",
      "juer.\n",
      "kalinah.\n",
      "yamilenias.\n",
      "dedailr.\n"
     ]
    }
   ],
   "source": [
    "g = torch.Generator().manual_seed(2147483647)\n",
    "\n",
    "for _ in range(10):\n",
    "    \n",
    "    out = []\n",
    "    context = [0] * block_size\n",
    "    while True:\n",
    "        emb = C[torch.tensor([context])] # (1,block_size,d)\n",
    "        h = torch.tanh(emb.view(1, -1) @ w1 + b1)\n",
    "        logits = h @ w2 + b2\n",
    "        probs = F.softmax(logits, dim=1)\n",
    "        ix = torch.multinomial(probs, num_samples=1, generator=g).item()\n",
    "        context = context[1:] + [ix]\n",
    "        out.append(ix)\n",
    "        if ix == 0:\n",
    "            break\n",
    "    \n",
    "    print(''.join(itos[i] for i in out))"
   ]
  },
  {
   "cell_type": "code",
   "execution_count": null,
   "id": "599ea30c",
   "metadata": {},
   "outputs": [],
   "source": []
  }
 ],
 "metadata": {
  "kernelspec": {
   "display_name": "Python 3 (ipykernel)",
   "language": "python",
   "name": "python3"
  },
  "language_info": {
   "codemirror_mode": {
    "name": "ipython",
    "version": 3
   },
   "file_extension": ".py",
   "mimetype": "text/x-python",
   "name": "python",
   "nbconvert_exporter": "python",
   "pygments_lexer": "ipython3",
   "version": "3.11.3"
  }
 },
 "nbformat": 4,
 "nbformat_minor": 5
}
