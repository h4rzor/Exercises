{
 "cells": [
  {
   "cell_type": "code",
   "execution_count": 1,
   "metadata": {
    "execution": {
     "iopub.execute_input": "2023-06-14T13:12:18.025228Z",
     "iopub.status.busy": "2023-06-14T13:12:18.024905Z",
     "iopub.status.idle": "2023-06-14T13:12:20.538602Z",
     "shell.execute_reply": "2023-06-14T13:12:20.537240Z",
     "shell.execute_reply.started": "2023-06-14T13:12:18.025198Z"
    }
   },
   "outputs": [],
   "source": [
    "import pandas as pd\n",
    "import numpy as np\n",
    "import matplotlib.pyplot as plt\n",
    "import torch\n",
    "from torch import nn\n",
    "from torch.utils.data import TensorDataset, DataLoader\n",
    "from datetime import datetime\n",
    "from sklearn.preprocessing import LabelEncoder, MinMaxScaler\n",
    "from sklearn.linear_model import LinearRegression\n",
    "from sklearn.model_selection import train_test_split\n",
    "from sklearn.metrics import classification_report\n",
    "from sklearn.ensemble import RandomForestClassifier, GradientBoostingClassifier\n",
    "from sklearn import svm\n",
    "from sklearn.neighbors import KNeighborsClassifier\n",
    "from torch.utils.data import Dataset, DataLoader\n",
    "from tqdm import tqdm"
   ]
  },
  {
   "cell_type": "code",
   "execution_count": 2,
   "metadata": {
    "execution": {
     "iopub.execute_input": "2023-06-14T13:12:20.541389Z",
     "iopub.status.busy": "2023-06-14T13:12:20.540645Z",
     "iopub.status.idle": "2023-06-14T13:12:20.552580Z",
     "shell.execute_reply": "2023-06-14T13:12:20.550915Z",
     "shell.execute_reply.started": "2023-06-14T13:12:20.541346Z"
    }
   },
   "outputs": [
    {
     "data": {
      "text/plain": [
       "'cpu'"
      ]
     },
     "execution_count": 2,
     "metadata": {},
     "output_type": "execute_result"
    }
   ],
   "source": [
    "device = \"cuda\" if torch.cuda.is_available() else \"cpu\"\n",
    "device"
   ]
  },
  {
   "cell_type": "code",
   "execution_count": 3,
   "metadata": {
    "execution": {
     "iopub.execute_input": "2023-06-14T13:12:20.555474Z",
     "iopub.status.busy": "2023-06-14T13:12:20.554727Z",
     "iopub.status.idle": "2023-06-14T13:12:33.145110Z",
     "shell.execute_reply": "2023-06-14T13:12:33.143051Z",
     "shell.execute_reply.started": "2023-06-14T13:12:20.555416Z"
    }
   },
   "outputs": [],
   "source": [
    "df = pd.read_csv(\"/kaggle/input/fraud-detection/fraudTrain.csv\")"
   ]
  },
  {
   "cell_type": "code",
   "execution_count": 4,
   "metadata": {
    "execution": {
     "iopub.execute_input": "2023-06-14T13:12:33.150896Z",
     "iopub.status.busy": "2023-06-14T13:12:33.150249Z",
     "iopub.status.idle": "2023-06-14T13:12:33.193866Z",
     "shell.execute_reply": "2023-06-14T13:12:33.192242Z",
     "shell.execute_reply.started": "2023-06-14T13:12:33.150833Z"
    }
   },
   "outputs": [
    {
     "data": {
      "text/html": [
       "<div>\n",
       "<style scoped>\n",
       "    .dataframe tbody tr th:only-of-type {\n",
       "        vertical-align: middle;\n",
       "    }\n",
       "\n",
       "    .dataframe tbody tr th {\n",
       "        vertical-align: top;\n",
       "    }\n",
       "\n",
       "    .dataframe thead th {\n",
       "        text-align: right;\n",
       "    }\n",
       "</style>\n",
       "<table border=\"1\" class=\"dataframe\">\n",
       "  <thead>\n",
       "    <tr style=\"text-align: right;\">\n",
       "      <th></th>\n",
       "      <th>Unnamed: 0</th>\n",
       "      <th>trans_date_trans_time</th>\n",
       "      <th>cc_num</th>\n",
       "      <th>merchant</th>\n",
       "      <th>category</th>\n",
       "      <th>amt</th>\n",
       "      <th>first</th>\n",
       "      <th>last</th>\n",
       "      <th>gender</th>\n",
       "      <th>street</th>\n",
       "      <th>...</th>\n",
       "      <th>lat</th>\n",
       "      <th>long</th>\n",
       "      <th>city_pop</th>\n",
       "      <th>job</th>\n",
       "      <th>dob</th>\n",
       "      <th>trans_num</th>\n",
       "      <th>unix_time</th>\n",
       "      <th>merch_lat</th>\n",
       "      <th>merch_long</th>\n",
       "      <th>is_fraud</th>\n",
       "    </tr>\n",
       "  </thead>\n",
       "  <tbody>\n",
       "    <tr>\n",
       "      <th>0</th>\n",
       "      <td>0</td>\n",
       "      <td>2019-01-01 00:00:18</td>\n",
       "      <td>2703186189652095</td>\n",
       "      <td>fraud_Rippin, Kub and Mann</td>\n",
       "      <td>misc_net</td>\n",
       "      <td>4.97</td>\n",
       "      <td>Jennifer</td>\n",
       "      <td>Banks</td>\n",
       "      <td>F</td>\n",
       "      <td>561 Perry Cove</td>\n",
       "      <td>...</td>\n",
       "      <td>36.0788</td>\n",
       "      <td>-81.1781</td>\n",
       "      <td>3495</td>\n",
       "      <td>Psychologist, counselling</td>\n",
       "      <td>1988-03-09</td>\n",
       "      <td>0b242abb623afc578575680df30655b9</td>\n",
       "      <td>1325376018</td>\n",
       "      <td>36.011293</td>\n",
       "      <td>-82.048315</td>\n",
       "      <td>0</td>\n",
       "    </tr>\n",
       "    <tr>\n",
       "      <th>1</th>\n",
       "      <td>1</td>\n",
       "      <td>2019-01-01 00:00:44</td>\n",
       "      <td>630423337322</td>\n",
       "      <td>fraud_Heller, Gutmann and Zieme</td>\n",
       "      <td>grocery_pos</td>\n",
       "      <td>107.23</td>\n",
       "      <td>Stephanie</td>\n",
       "      <td>Gill</td>\n",
       "      <td>F</td>\n",
       "      <td>43039 Riley Greens Suite 393</td>\n",
       "      <td>...</td>\n",
       "      <td>48.8878</td>\n",
       "      <td>-118.2105</td>\n",
       "      <td>149</td>\n",
       "      <td>Special educational needs teacher</td>\n",
       "      <td>1978-06-21</td>\n",
       "      <td>1f76529f8574734946361c461b024d99</td>\n",
       "      <td>1325376044</td>\n",
       "      <td>49.159047</td>\n",
       "      <td>-118.186462</td>\n",
       "      <td>0</td>\n",
       "    </tr>\n",
       "    <tr>\n",
       "      <th>2</th>\n",
       "      <td>2</td>\n",
       "      <td>2019-01-01 00:00:51</td>\n",
       "      <td>38859492057661</td>\n",
       "      <td>fraud_Lind-Buckridge</td>\n",
       "      <td>entertainment</td>\n",
       "      <td>220.11</td>\n",
       "      <td>Edward</td>\n",
       "      <td>Sanchez</td>\n",
       "      <td>M</td>\n",
       "      <td>594 White Dale Suite 530</td>\n",
       "      <td>...</td>\n",
       "      <td>42.1808</td>\n",
       "      <td>-112.2620</td>\n",
       "      <td>4154</td>\n",
       "      <td>Nature conservation officer</td>\n",
       "      <td>1962-01-19</td>\n",
       "      <td>a1a22d70485983eac12b5b88dad1cf95</td>\n",
       "      <td>1325376051</td>\n",
       "      <td>43.150704</td>\n",
       "      <td>-112.154481</td>\n",
       "      <td>0</td>\n",
       "    </tr>\n",
       "    <tr>\n",
       "      <th>3</th>\n",
       "      <td>3</td>\n",
       "      <td>2019-01-01 00:01:16</td>\n",
       "      <td>3534093764340240</td>\n",
       "      <td>fraud_Kutch, Hermiston and Farrell</td>\n",
       "      <td>gas_transport</td>\n",
       "      <td>45.00</td>\n",
       "      <td>Jeremy</td>\n",
       "      <td>White</td>\n",
       "      <td>M</td>\n",
       "      <td>9443 Cynthia Court Apt. 038</td>\n",
       "      <td>...</td>\n",
       "      <td>46.2306</td>\n",
       "      <td>-112.1138</td>\n",
       "      <td>1939</td>\n",
       "      <td>Patent attorney</td>\n",
       "      <td>1967-01-12</td>\n",
       "      <td>6b849c168bdad6f867558c3793159a81</td>\n",
       "      <td>1325376076</td>\n",
       "      <td>47.034331</td>\n",
       "      <td>-112.561071</td>\n",
       "      <td>0</td>\n",
       "    </tr>\n",
       "    <tr>\n",
       "      <th>4</th>\n",
       "      <td>4</td>\n",
       "      <td>2019-01-01 00:03:06</td>\n",
       "      <td>375534208663984</td>\n",
       "      <td>fraud_Keeling-Crist</td>\n",
       "      <td>misc_pos</td>\n",
       "      <td>41.96</td>\n",
       "      <td>Tyler</td>\n",
       "      <td>Garcia</td>\n",
       "      <td>M</td>\n",
       "      <td>408 Bradley Rest</td>\n",
       "      <td>...</td>\n",
       "      <td>38.4207</td>\n",
       "      <td>-79.4629</td>\n",
       "      <td>99</td>\n",
       "      <td>Dance movement psychotherapist</td>\n",
       "      <td>1986-03-28</td>\n",
       "      <td>a41d7549acf90789359a9aa5346dcb46</td>\n",
       "      <td>1325376186</td>\n",
       "      <td>38.674999</td>\n",
       "      <td>-78.632459</td>\n",
       "      <td>0</td>\n",
       "    </tr>\n",
       "  </tbody>\n",
       "</table>\n",
       "<p>5 rows × 23 columns</p>\n",
       "</div>"
      ],
      "text/plain": [
       "   Unnamed: 0 trans_date_trans_time            cc_num  \\\n",
       "0           0   2019-01-01 00:00:18  2703186189652095   \n",
       "1           1   2019-01-01 00:00:44      630423337322   \n",
       "2           2   2019-01-01 00:00:51    38859492057661   \n",
       "3           3   2019-01-01 00:01:16  3534093764340240   \n",
       "4           4   2019-01-01 00:03:06   375534208663984   \n",
       "\n",
       "                             merchant       category     amt      first  \\\n",
       "0          fraud_Rippin, Kub and Mann       misc_net    4.97   Jennifer   \n",
       "1     fraud_Heller, Gutmann and Zieme    grocery_pos  107.23  Stephanie   \n",
       "2                fraud_Lind-Buckridge  entertainment  220.11     Edward   \n",
       "3  fraud_Kutch, Hermiston and Farrell  gas_transport   45.00     Jeremy   \n",
       "4                 fraud_Keeling-Crist       misc_pos   41.96      Tyler   \n",
       "\n",
       "      last gender                        street  ...      lat      long  \\\n",
       "0    Banks      F                561 Perry Cove  ...  36.0788  -81.1781   \n",
       "1     Gill      F  43039 Riley Greens Suite 393  ...  48.8878 -118.2105   \n",
       "2  Sanchez      M      594 White Dale Suite 530  ...  42.1808 -112.2620   \n",
       "3    White      M   9443 Cynthia Court Apt. 038  ...  46.2306 -112.1138   \n",
       "4   Garcia      M              408 Bradley Rest  ...  38.4207  -79.4629   \n",
       "\n",
       "   city_pop                                job         dob  \\\n",
       "0      3495          Psychologist, counselling  1988-03-09   \n",
       "1       149  Special educational needs teacher  1978-06-21   \n",
       "2      4154        Nature conservation officer  1962-01-19   \n",
       "3      1939                    Patent attorney  1967-01-12   \n",
       "4        99     Dance movement psychotherapist  1986-03-28   \n",
       "\n",
       "                          trans_num   unix_time  merch_lat  merch_long  \\\n",
       "0  0b242abb623afc578575680df30655b9  1325376018  36.011293  -82.048315   \n",
       "1  1f76529f8574734946361c461b024d99  1325376044  49.159047 -118.186462   \n",
       "2  a1a22d70485983eac12b5b88dad1cf95  1325376051  43.150704 -112.154481   \n",
       "3  6b849c168bdad6f867558c3793159a81  1325376076  47.034331 -112.561071   \n",
       "4  a41d7549acf90789359a9aa5346dcb46  1325376186  38.674999  -78.632459   \n",
       "\n",
       "   is_fraud  \n",
       "0         0  \n",
       "1         0  \n",
       "2         0  \n",
       "3         0  \n",
       "4         0  \n",
       "\n",
       "[5 rows x 23 columns]"
      ]
     },
     "execution_count": 4,
     "metadata": {},
     "output_type": "execute_result"
    }
   ],
   "source": [
    "df.head()"
   ]
  },
  {
   "cell_type": "code",
   "execution_count": 5,
   "metadata": {
    "execution": {
     "iopub.execute_input": "2023-06-14T13:12:33.196988Z",
     "iopub.status.busy": "2023-06-14T13:12:33.196441Z",
     "iopub.status.idle": "2023-06-14T13:12:33.204841Z",
     "shell.execute_reply": "2023-06-14T13:12:33.202737Z",
     "shell.execute_reply.started": "2023-06-14T13:12:33.196943Z"
    }
   },
   "outputs": [],
   "source": [
    "columns = df.columns"
   ]
  },
  {
   "cell_type": "code",
   "execution_count": 6,
   "metadata": {
    "execution": {
     "iopub.execute_input": "2023-06-14T13:12:33.207995Z",
     "iopub.status.busy": "2023-06-14T13:12:33.207265Z",
     "iopub.status.idle": "2023-06-14T13:12:33.223060Z",
     "shell.execute_reply": "2023-06-14T13:12:33.221589Z",
     "shell.execute_reply.started": "2023-06-14T13:12:33.207902Z"
    }
   },
   "outputs": [
    {
     "data": {
      "text/plain": [
       "23"
      ]
     },
     "execution_count": 6,
     "metadata": {},
     "output_type": "execute_result"
    }
   ],
   "source": [
    "len(columns)"
   ]
  },
  {
   "cell_type": "code",
   "execution_count": 7,
   "metadata": {
    "execution": {
     "iopub.execute_input": "2023-06-14T13:12:33.225556Z",
     "iopub.status.busy": "2023-06-14T13:12:33.225106Z",
     "iopub.status.idle": "2023-06-14T13:12:33.246237Z",
     "shell.execute_reply": "2023-06-14T13:12:33.244864Z",
     "shell.execute_reply.started": "2023-06-14T13:12:33.225520Z"
    }
   },
   "outputs": [
    {
     "data": {
      "text/plain": [
       "23"
      ]
     },
     "execution_count": 7,
     "metadata": {},
     "output_type": "execute_result"
    }
   ],
   "source": [
    "len(set(columns))"
   ]
  },
  {
   "cell_type": "markdown",
   "metadata": {},
   "source": [
    "So, they are all unique, no need to drop anything for now."
   ]
  },
  {
   "cell_type": "code",
   "execution_count": 8,
   "metadata": {
    "execution": {
     "iopub.execute_input": "2023-06-14T13:12:33.248904Z",
     "iopub.status.busy": "2023-06-14T13:12:33.248227Z",
     "iopub.status.idle": "2023-06-14T13:12:33.262756Z",
     "shell.execute_reply": "2023-06-14T13:12:33.261660Z",
     "shell.execute_reply.started": "2023-06-14T13:12:33.248868Z"
    }
   },
   "outputs": [
    {
     "data": {
      "text/plain": [
       "1296675"
      ]
     },
     "execution_count": 8,
     "metadata": {},
     "output_type": "execute_result"
    }
   ],
   "source": [
    "len(df)"
   ]
  },
  {
   "cell_type": "markdown",
   "metadata": {},
   "source": [
    "The dataset has more than a million records."
   ]
  },
  {
   "cell_type": "code",
   "execution_count": 9,
   "metadata": {
    "execution": {
     "iopub.execute_input": "2023-06-14T13:12:33.264649Z",
     "iopub.status.busy": "2023-06-14T13:12:33.264216Z",
     "iopub.status.idle": "2023-06-14T13:12:33.276017Z",
     "shell.execute_reply": "2023-06-14T13:12:33.274487Z",
     "shell.execute_reply.started": "2023-06-14T13:12:33.264615Z"
    }
   },
   "outputs": [],
   "source": [
    "target_col = df[\"is_fraud\"]"
   ]
  },
  {
   "cell_type": "code",
   "execution_count": 10,
   "metadata": {
    "execution": {
     "iopub.execute_input": "2023-06-14T13:12:33.279290Z",
     "iopub.status.busy": "2023-06-14T13:12:33.278499Z",
     "iopub.status.idle": "2023-06-14T13:12:33.296119Z",
     "shell.execute_reply": "2023-06-14T13:12:33.294274Z",
     "shell.execute_reply.started": "2023-06-14T13:12:33.279236Z"
    }
   },
   "outputs": [],
   "source": [
    "fraud = target_col[target_col == 1]"
   ]
  },
  {
   "cell_type": "code",
   "execution_count": 11,
   "metadata": {
    "execution": {
     "iopub.execute_input": "2023-06-14T13:12:33.299162Z",
     "iopub.status.busy": "2023-06-14T13:12:33.298621Z",
     "iopub.status.idle": "2023-06-14T13:12:33.312373Z",
     "shell.execute_reply": "2023-06-14T13:12:33.311008Z",
     "shell.execute_reply.started": "2023-06-14T13:12:33.299102Z"
    }
   },
   "outputs": [
    {
     "data": {
      "text/plain": [
       "7506"
      ]
     },
     "execution_count": 11,
     "metadata": {},
     "output_type": "execute_result"
    }
   ],
   "source": [
    "len(fraud)"
   ]
  },
  {
   "cell_type": "code",
   "execution_count": 12,
   "metadata": {
    "execution": {
     "iopub.execute_input": "2023-06-14T13:12:33.315553Z",
     "iopub.status.busy": "2023-06-14T13:12:33.314872Z",
     "iopub.status.idle": "2023-06-14T13:12:33.337201Z",
     "shell.execute_reply": "2023-06-14T13:12:33.335066Z",
     "shell.execute_reply.started": "2023-06-14T13:12:33.315489Z"
    }
   },
   "outputs": [],
   "source": [
    "not_fraud = target_col[target_col == 0]"
   ]
  },
  {
   "cell_type": "code",
   "execution_count": 13,
   "metadata": {
    "execution": {
     "iopub.execute_input": "2023-06-14T13:12:33.345293Z",
     "iopub.status.busy": "2023-06-14T13:12:33.344821Z",
     "iopub.status.idle": "2023-06-14T13:12:33.354982Z",
     "shell.execute_reply": "2023-06-14T13:12:33.353178Z",
     "shell.execute_reply.started": "2023-06-14T13:12:33.345260Z"
    }
   },
   "outputs": [
    {
     "data": {
      "text/plain": [
       "1289169"
      ]
     },
     "execution_count": 13,
     "metadata": {},
     "output_type": "execute_result"
    }
   ],
   "source": [
    "len(not_fraud)"
   ]
  },
  {
   "cell_type": "code",
   "execution_count": 14,
   "metadata": {
    "execution": {
     "iopub.execute_input": "2023-06-14T13:12:33.357468Z",
     "iopub.status.busy": "2023-06-14T13:12:33.356358Z",
     "iopub.status.idle": "2023-06-14T13:12:33.372092Z",
     "shell.execute_reply": "2023-06-14T13:12:33.371046Z",
     "shell.execute_reply.started": "2023-06-14T13:12:33.357412Z"
    }
   },
   "outputs": [],
   "source": [
    "fraud, not_fraud = np.array(fraud), np.array(not_fraud)"
   ]
  },
  {
   "cell_type": "code",
   "execution_count": 15,
   "metadata": {
    "execution": {
     "iopub.execute_input": "2023-06-14T13:12:33.375191Z",
     "iopub.status.busy": "2023-06-14T13:12:33.373841Z",
     "iopub.status.idle": "2023-06-14T13:12:33.386988Z",
     "shell.execute_reply": "2023-06-14T13:12:33.385757Z",
     "shell.execute_reply.started": "2023-06-14T13:12:33.375121Z"
    }
   },
   "outputs": [],
   "source": [
    "concatenated = np.concatenate((fraud, not_fraud), axis=0)"
   ]
  },
  {
   "cell_type": "code",
   "execution_count": 16,
   "metadata": {
    "execution": {
     "iopub.execute_input": "2023-06-14T13:12:33.390505Z",
     "iopub.status.busy": "2023-06-14T13:12:33.389050Z",
     "iopub.status.idle": "2023-06-14T13:12:33.399264Z",
     "shell.execute_reply": "2023-06-14T13:12:33.397645Z",
     "shell.execute_reply.started": "2023-06-14T13:12:33.390457Z"
    }
   },
   "outputs": [],
   "source": [
    "assert len(concatenated) == len(fraud) + len(not_fraud)"
   ]
  },
  {
   "cell_type": "code",
   "execution_count": 17,
   "metadata": {
    "execution": {
     "iopub.execute_input": "2023-06-14T13:12:33.401863Z",
     "iopub.status.busy": "2023-06-14T13:12:33.401191Z",
     "iopub.status.idle": "2023-06-14T13:12:33.422601Z",
     "shell.execute_reply": "2023-06-14T13:12:33.420995Z",
     "shell.execute_reply.started": "2023-06-14T13:12:33.401820Z"
    }
   },
   "outputs": [],
   "source": [
    "counts = np.bincount(concatenated)"
   ]
  },
  {
   "cell_type": "code",
   "execution_count": 18,
   "metadata": {
    "execution": {
     "iopub.execute_input": "2023-06-14T13:12:33.425480Z",
     "iopub.status.busy": "2023-06-14T13:12:33.424976Z",
     "iopub.status.idle": "2023-06-14T13:12:34.124474Z",
     "shell.execute_reply": "2023-06-14T13:12:34.122700Z",
     "shell.execute_reply.started": "2023-06-14T13:12:33.425445Z"
    }
   },
   "outputs": [
    {
     "data": {
      "image/png": "[encoded data removed]",
      "text/plain": [
       "<Figure size 640x480 with 1 Axes>"
      ]
     },
     "metadata": {},
     "output_type": "display_data"
    }
   ],
   "source": [
    "plt.bar([0, 1], counts)\n",
    "plt.yscale('log')\n",
    "plt.xlabel('Value')\n",
    "plt.ylabel('Count')\n",
    "plt.title('Not fraud and Fraud')\n",
    "\n",
    "plt.xticks([0, 1], ['Not fraud', 'Fraud'])\n",
    "\n",
    "plt.show()"
   ]
  },
  {
   "cell_type": "markdown",
   "metadata": {},
   "source": [
    "As we can see, the array is highly disbalanced, due to the nature of the matter that we're dealing with."
   ]
  },
  {
   "cell_type": "code",
   "execution_count": 19,
   "metadata": {
    "execution": {
     "iopub.execute_input": "2023-06-14T13:12:34.127410Z",
     "iopub.status.busy": "2023-06-14T13:12:34.126583Z",
     "iopub.status.idle": "2023-06-14T13:12:34.416781Z",
     "shell.execute_reply": "2023-06-14T13:12:34.415121Z",
     "shell.execute_reply.started": "2023-06-14T13:12:34.127361Z"
    }
   },
   "outputs": [],
   "source": [
    "df.drop(\"Unnamed: 0\", axis=1, inplace=True)"
   ]
  },
  {
   "cell_type": "code",
   "execution_count": 20,
   "metadata": {
    "execution": {
     "iopub.execute_input": "2023-06-14T13:12:34.418883Z",
     "iopub.status.busy": "2023-06-14T13:12:34.418307Z",
     "iopub.status.idle": "2023-06-14T13:12:34.429459Z",
     "shell.execute_reply": "2023-06-14T13:12:34.427672Z",
     "shell.execute_reply.started": "2023-06-14T13:12:34.418830Z"
    }
   },
   "outputs": [
    {
     "data": {
      "text/plain": [
       "'2019-01-01 00:00:18'"
      ]
     },
     "execution_count": 20,
     "metadata": {},
     "output_type": "execute_result"
    }
   ],
   "source": [
    "df[\"trans_date_trans_time\"][0]"
   ]
  },
  {
   "cell_type": "code",
   "execution_count": 21,
   "metadata": {
    "execution": {
     "iopub.execute_input": "2023-06-14T13:12:34.431806Z",
     "iopub.status.busy": "2023-06-14T13:12:34.431235Z",
     "iopub.status.idle": "2023-06-14T13:12:34.446330Z",
     "shell.execute_reply": "2023-06-14T13:12:34.444277Z",
     "shell.execute_reply.started": "2023-06-14T13:12:34.431759Z"
    }
   },
   "outputs": [
    {
     "data": {
      "text/plain": [
       "'2019-01-01'"
      ]
     },
     "execution_count": 21,
     "metadata": {},
     "output_type": "execute_result"
    }
   ],
   "source": [
    "date_string = df[\"trans_date_trans_time\"][0].split(\" \")[0]\n",
    "date_string"
   ]
  },
  {
   "cell_type": "code",
   "execution_count": 22,
   "metadata": {
    "execution": {
     "iopub.execute_input": "2023-06-14T13:12:34.448992Z",
     "iopub.status.busy": "2023-06-14T13:12:34.448334Z",
     "iopub.status.idle": "2023-06-14T13:12:34.458338Z",
     "shell.execute_reply": "2023-06-14T13:12:34.456745Z",
     "shell.execute_reply.started": "2023-06-14T13:12:34.448930Z"
    }
   },
   "outputs": [],
   "source": [
    "date_object = datetime.strptime(date_string, \"%Y-%m-%d\")"
   ]
  },
  {
   "cell_type": "code",
   "execution_count": 23,
   "metadata": {
    "execution": {
     "iopub.execute_input": "2023-06-14T13:12:34.460445Z",
     "iopub.status.busy": "2023-06-14T13:12:34.459804Z",
     "iopub.status.idle": "2023-06-14T13:12:34.473449Z",
     "shell.execute_reply": "2023-06-14T13:12:34.472188Z",
     "shell.execute_reply.started": "2023-06-14T13:12:34.460370Z"
    }
   },
   "outputs": [],
   "source": [
    "timestamp = date_object.timestamp()"
   ]
  },
  {
   "cell_type": "code",
   "execution_count": 24,
   "metadata": {
    "execution": {
     "iopub.execute_input": "2023-06-14T13:12:34.476804Z",
     "iopub.status.busy": "2023-06-14T13:12:34.476282Z",
     "iopub.status.idle": "2023-06-14T13:12:34.491681Z",
     "shell.execute_reply": "2023-06-14T13:12:34.490244Z",
     "shell.execute_reply.started": "2023-06-14T13:12:34.476760Z"
    }
   },
   "outputs": [
    {
     "data": {
      "text/plain": [
       "1546300800.0"
      ]
     },
     "execution_count": 24,
     "metadata": {},
     "output_type": "execute_result"
    }
   ],
   "source": [
    "timestamp"
   ]
  },
  {
   "cell_type": "code",
   "execution_count": 25,
   "metadata": {
    "execution": {
     "iopub.execute_input": "2023-06-14T13:12:34.493299Z",
     "iopub.status.busy": "2023-06-14T13:12:34.492902Z",
     "iopub.status.idle": "2023-06-14T13:12:34.507325Z",
     "shell.execute_reply": "2023-06-14T13:12:34.506328Z",
     "shell.execute_reply.started": "2023-06-14T13:12:34.493268Z"
    }
   },
   "outputs": [
    {
     "data": {
      "text/plain": [
       "float"
      ]
     },
     "execution_count": 25,
     "metadata": {},
     "output_type": "execute_result"
    }
   ],
   "source": [
    "type(timestamp)"
   ]
  },
  {
   "cell_type": "code",
   "execution_count": 26,
   "metadata": {
    "execution": {
     "iopub.execute_input": "2023-06-14T13:12:34.509152Z",
     "iopub.status.busy": "2023-06-14T13:12:34.508732Z",
     "iopub.status.idle": "2023-06-14T13:12:35.015657Z",
     "shell.execute_reply": "2023-06-14T13:12:35.014270Z",
     "shell.execute_reply.started": "2023-06-14T13:12:34.509100Z"
    }
   },
   "outputs": [],
   "source": [
    "df[\"date\"] = pd.to_datetime(df[\"trans_date_trans_time\"])"
   ]
  },
  {
   "cell_type": "code",
   "execution_count": 27,
   "metadata": {
    "execution": {
     "iopub.execute_input": "2023-06-14T13:12:35.019064Z",
     "iopub.status.busy": "2023-06-14T13:12:35.017845Z",
     "iopub.status.idle": "2023-06-14T13:12:41.813189Z",
     "shell.execute_reply": "2023-06-14T13:12:41.811751Z",
     "shell.execute_reply.started": "2023-06-14T13:12:35.019025Z"
    }
   },
   "outputs": [],
   "source": [
    "df[\"date\"] = df[\"date\"].apply(lambda x: x.timestamp())"
   ]
  },
  {
   "cell_type": "code",
   "execution_count": 28,
   "metadata": {
    "execution": {
     "iopub.execute_input": "2023-06-14T13:12:41.815089Z",
     "iopub.status.busy": "2023-06-14T13:12:41.814716Z",
     "iopub.status.idle": "2023-06-14T13:12:41.823691Z",
     "shell.execute_reply": "2023-06-14T13:12:41.822373Z",
     "shell.execute_reply.started": "2023-06-14T13:12:41.815059Z"
    }
   },
   "outputs": [
    {
     "data": {
      "text/plain": [
       "numpy.float64"
      ]
     },
     "execution_count": 28,
     "metadata": {},
     "output_type": "execute_result"
    }
   ],
   "source": [
    "type(df[\"date\"][0])"
   ]
  },
  {
   "cell_type": "markdown",
   "metadata": {},
   "source": [
    "Successfully turned the datetime to float. We could work with float."
   ]
  },
  {
   "cell_type": "code",
   "execution_count": 29,
   "metadata": {
    "execution": {
     "iopub.execute_input": "2023-06-14T13:12:41.827029Z",
     "iopub.status.busy": "2023-06-14T13:12:41.825604Z",
     "iopub.status.idle": "2023-06-14T13:12:42.193885Z",
     "shell.execute_reply": "2023-06-14T13:12:42.192582Z",
     "shell.execute_reply.started": "2023-06-14T13:12:41.826980Z"
    }
   },
   "outputs": [],
   "source": [
    "df.drop(\"trans_date_trans_time\", axis=1, inplace=True)"
   ]
  },
  {
   "cell_type": "code",
   "execution_count": 30,
   "metadata": {
    "execution": {
     "iopub.execute_input": "2023-06-14T13:12:42.196895Z",
     "iopub.status.busy": "2023-06-14T13:12:42.195752Z",
     "iopub.status.idle": "2023-06-14T13:12:42.528834Z",
     "shell.execute_reply": "2023-06-14T13:12:42.527909Z",
     "shell.execute_reply.started": "2023-06-14T13:12:42.196847Z"
    }
   },
   "outputs": [],
   "source": [
    "df.drop(\"cc_num\", axis=1, inplace=True)"
   ]
  },
  {
   "cell_type": "code",
   "execution_count": 31,
   "metadata": {
    "execution": {
     "iopub.execute_input": "2023-06-14T13:12:42.530828Z",
     "iopub.status.busy": "2023-06-14T13:12:42.530283Z",
     "iopub.status.idle": "2023-06-14T13:12:42.773560Z",
     "shell.execute_reply": "2023-06-14T13:12:42.772054Z",
     "shell.execute_reply.started": "2023-06-14T13:12:42.530796Z"
    }
   },
   "outputs": [],
   "source": [
    "value_counts = df[\"merchant\"].value_counts().sort_values(ascending=False)"
   ]
  },
  {
   "cell_type": "code",
   "execution_count": 32,
   "metadata": {
    "execution": {
     "iopub.execute_input": "2023-06-14T13:12:42.777389Z",
     "iopub.status.busy": "2023-06-14T13:12:42.776937Z",
     "iopub.status.idle": "2023-06-14T13:12:42.788100Z",
     "shell.execute_reply": "2023-06-14T13:12:42.786270Z",
     "shell.execute_reply.started": "2023-06-14T13:12:42.777356Z"
    }
   },
   "outputs": [],
   "source": [
    "value_counts = value_counts.head(10)"
   ]
  },
  {
   "cell_type": "code",
   "execution_count": 33,
   "metadata": {
    "execution": {
     "iopub.execute_input": "2023-06-14T13:12:42.791598Z",
     "iopub.status.busy": "2023-06-14T13:12:42.790090Z",
     "iopub.status.idle": "2023-06-14T13:12:43.183051Z",
     "shell.execute_reply": "2023-06-14T13:12:43.181835Z",
     "shell.execute_reply.started": "2023-06-14T13:12:42.791556Z"
    }
   },
   "outputs": [
    {
     "data": {
      "image/png": "[encoded data removed]",
      "text/plain": [
       "<Figure size 640x480 with 1 Axes>"
      ]
     },
     "metadata": {},
     "output_type": "display_data"
    }
   ],
   "source": [
    "value_counts.plot(kind=\"bar\")\n",
    "plt.xlabel('Categories')\n",
    "plt.ylabel('Count')\n",
    "plt.title('Value Counts')\n",
    "\n",
    "plt.show()"
   ]
  },
  {
   "cell_type": "markdown",
   "metadata": {},
   "source": [
    "These are all the data that we have, sorted."
   ]
  },
  {
   "cell_type": "code",
   "execution_count": 34,
   "metadata": {
    "execution": {
     "iopub.execute_input": "2023-06-14T13:12:43.186049Z",
     "iopub.status.busy": "2023-06-14T13:12:43.185231Z",
     "iopub.status.idle": "2023-06-14T13:12:43.198308Z",
     "shell.execute_reply": "2023-06-14T13:12:43.197061Z",
     "shell.execute_reply.started": "2023-06-14T13:12:43.186003Z"
    }
   },
   "outputs": [],
   "source": [
    "merchant = df[\"merchant\"][df[\"is_fraud\"] == 1]"
   ]
  },
  {
   "cell_type": "code",
   "execution_count": 35,
   "metadata": {
    "execution": {
     "iopub.execute_input": "2023-06-14T13:12:43.201418Z",
     "iopub.status.busy": "2023-06-14T13:12:43.200840Z",
     "iopub.status.idle": "2023-06-14T13:12:43.215328Z",
     "shell.execute_reply": "2023-06-14T13:12:43.213728Z",
     "shell.execute_reply.started": "2023-06-14T13:12:43.201369Z"
    }
   },
   "outputs": [],
   "source": [
    "value_counts = merchant.value_counts().sort_values(ascending=False).head(10)"
   ]
  },
  {
   "cell_type": "code",
   "execution_count": 36,
   "metadata": {
    "execution": {
     "iopub.execute_input": "2023-06-14T13:12:43.217890Z",
     "iopub.status.busy": "2023-06-14T13:12:43.217351Z",
     "iopub.status.idle": "2023-06-14T13:12:43.580328Z",
     "shell.execute_reply": "2023-06-14T13:12:43.579180Z",
     "shell.execute_reply.started": "2023-06-14T13:12:43.217843Z"
    }
   },
   "outputs": [
    {
     "data": {
      "image/png": "[encoded data removed]",
      "text/plain": [
       "<Figure size 640x480 with 1 Axes>"
      ]
     },
     "metadata": {},
     "output_type": "display_data"
    }
   ],
   "source": [
    "value_counts.plot(kind=\"bar\")\n",
    "plt.xlabel('Categories')\n",
    "plt.ylabel('Count')\n",
    "plt.title('Value Counts')\n",
    "\n",
    "plt.show()"
   ]
  },
  {
   "cell_type": "markdown",
   "metadata": {},
   "source": [
    "These are the fraudulent merchants. These could turn out to be very important in the future, when there is a transactions coming from these, it might idicate that it's fraud."
   ]
  },
  {
   "cell_type": "code",
   "execution_count": 37,
   "metadata": {
    "execution": {
     "iopub.execute_input": "2023-06-14T13:12:43.582219Z",
     "iopub.status.busy": "2023-06-14T13:12:43.581780Z",
     "iopub.status.idle": "2023-06-14T13:12:43.803329Z",
     "shell.execute_reply": "2023-06-14T13:12:43.802195Z",
     "shell.execute_reply.started": "2023-06-14T13:12:43.582186Z"
    }
   },
   "outputs": [],
   "source": [
    "category = df[\"category\"].value_counts().sort_values(ascending=False)"
   ]
  },
  {
   "cell_type": "code",
   "execution_count": 38,
   "metadata": {
    "execution": {
     "iopub.execute_input": "2023-06-14T13:12:43.805376Z",
     "iopub.status.busy": "2023-06-14T13:12:43.805045Z",
     "iopub.status.idle": "2023-06-14T13:12:44.168803Z",
     "shell.execute_reply": "2023-06-14T13:12:44.167648Z",
     "shell.execute_reply.started": "2023-06-14T13:12:43.805348Z"
    }
   },
   "outputs": [
    {
     "data": {
      "image/png": "[encoded data removed]",
      "text/plain": [
       "<Figure size 640x480 with 1 Axes>"
      ]
     },
     "metadata": {},
     "output_type": "display_data"
    }
   ],
   "source": [
    "category.plot(kind=\"bar\")\n",
    "plt.xlabel('Category')\n",
    "plt.ylabel('Count')\n",
    "plt.title('Categories')\n",
    "\n",
    "plt.show()"
   ]
  },
  {
   "cell_type": "markdown",
   "metadata": {},
   "source": [
    "This is the whole category column."
   ]
  },
  {
   "cell_type": "code",
   "execution_count": 39,
   "metadata": {
    "execution": {
     "iopub.execute_input": "2023-06-14T13:12:44.170624Z",
     "iopub.status.busy": "2023-06-14T13:12:44.170287Z",
     "iopub.status.idle": "2023-06-14T13:12:44.181409Z",
     "shell.execute_reply": "2023-06-14T13:12:44.180114Z",
     "shell.execute_reply.started": "2023-06-14T13:12:44.170596Z"
    }
   },
   "outputs": [],
   "source": [
    "category = df[\"category\"][df[\"is_fraud\"] == 1]"
   ]
  },
  {
   "cell_type": "code",
   "execution_count": 40,
   "metadata": {
    "execution": {
     "iopub.execute_input": "2023-06-14T13:12:44.199633Z",
     "iopub.status.busy": "2023-06-14T13:12:44.198716Z",
     "iopub.status.idle": "2023-06-14T13:12:44.206907Z",
     "shell.execute_reply": "2023-06-14T13:12:44.205602Z",
     "shell.execute_reply.started": "2023-06-14T13:12:44.199599Z"
    }
   },
   "outputs": [],
   "source": [
    "category = category.value_counts().sort_values(ascending=False)"
   ]
  },
  {
   "cell_type": "code",
   "execution_count": 41,
   "metadata": {
    "execution": {
     "iopub.execute_input": "2023-06-14T13:12:44.208747Z",
     "iopub.status.busy": "2023-06-14T13:12:44.208377Z",
     "iopub.status.idle": "2023-06-14T13:12:44.578439Z",
     "shell.execute_reply": "2023-06-14T13:12:44.577273Z",
     "shell.execute_reply.started": "2023-06-14T13:12:44.208717Z"
    }
   },
   "outputs": [
    {
     "data": {
      "image/png": "[encoded data removed]",
      "text/plain": [
       "<Figure size 640x480 with 1 Axes>"
      ]
     },
     "metadata": {},
     "output_type": "display_data"
    }
   ],
   "source": [
    "category.plot(kind=\"bar\")\n",
    "plt.xlabel('Category')\n",
    "plt.ylabel('Count')\n",
    "plt.title('Categories')\n",
    "\n",
    "plt.show()"
   ]
  },
  {
   "cell_type": "markdown",
   "metadata": {},
   "source": [
    "These are the sorted fraudulent categories."
   ]
  },
  {
   "cell_type": "code",
   "execution_count": 42,
   "metadata": {
    "execution": {
     "iopub.execute_input": "2023-06-14T13:12:44.580448Z",
     "iopub.status.busy": "2023-06-14T13:12:44.579989Z",
     "iopub.status.idle": "2023-06-14T13:12:44.632355Z",
     "shell.execute_reply": "2023-06-14T13:12:44.630996Z",
     "shell.execute_reply.started": "2023-06-14T13:12:44.580406Z"
    }
   },
   "outputs": [],
   "source": [
    "amt_value_counts = df[\"amt\"].value_counts()"
   ]
  },
  {
   "cell_type": "code",
   "execution_count": 43,
   "metadata": {
    "execution": {
     "iopub.execute_input": "2023-06-14T13:12:44.634809Z",
     "iopub.status.busy": "2023-06-14T13:12:44.634347Z",
     "iopub.status.idle": "2023-06-14T13:12:44.705493Z",
     "shell.execute_reply": "2023-06-14T13:12:44.704227Z",
     "shell.execute_reply.started": "2023-06-14T13:12:44.634774Z"
    }
   },
   "outputs": [
    {
     "data": {
      "text/plain": [
       "count    1.296675e+06\n",
       "mean     7.035104e+01\n",
       "std      1.603160e+02\n",
       "min      1.000000e+00\n",
       "25%      9.650000e+00\n",
       "50%      4.752000e+01\n",
       "75%      8.314000e+01\n",
       "max      2.894890e+04\n",
       "Name: amt, dtype: float64"
      ]
     },
     "execution_count": 43,
     "metadata": {},
     "output_type": "execute_result"
    }
   ],
   "source": [
    "df[\"amt\"].describe()"
   ]
  },
  {
   "cell_type": "code",
   "execution_count": 44,
   "metadata": {
    "execution": {
     "iopub.execute_input": "2023-06-14T13:12:44.707244Z",
     "iopub.status.busy": "2023-06-14T13:12:44.706873Z",
     "iopub.status.idle": "2023-06-14T13:12:44.758485Z",
     "shell.execute_reply": "2023-06-14T13:12:44.757088Z",
     "shell.execute_reply.started": "2023-06-14T13:12:44.707212Z"
    }
   },
   "outputs": [],
   "source": [
    "y_scale = list(range(len(df[\"amt\"])))"
   ]
  },
  {
   "cell_type": "code",
   "execution_count": 45,
   "metadata": {
    "execution": {
     "iopub.execute_input": "2023-06-14T13:12:44.760965Z",
     "iopub.status.busy": "2023-06-14T13:12:44.760219Z",
     "iopub.status.idle": "2023-06-14T13:12:56.166044Z",
     "shell.execute_reply": "2023-06-14T13:12:56.164903Z",
     "shell.execute_reply.started": "2023-06-14T13:12:44.760922Z"
    }
   },
   "outputs": [
    {
     "data": {
      "image/png": "[encoded data removed]",
      "text/plain": [
       "<Figure size 640x480 with 1 Axes>"
      ]
     },
     "metadata": {},
     "output_type": "display_data"
    }
   ],
   "source": [
    "plt.scatter(df[\"amt\"].values, y_scale)\n",
    "plt.xlabel(\"AMT\")\n",
    "plt.ylabel(\"number\")\n",
    "plt.show()"
   ]
  },
  {
   "cell_type": "code",
   "execution_count": 46,
   "metadata": {
    "execution": {
     "iopub.execute_input": "2023-06-14T13:12:56.167609Z",
     "iopub.status.busy": "2023-06-14T13:12:56.167279Z",
     "iopub.status.idle": "2023-06-14T13:12:56.234547Z",
     "shell.execute_reply": "2023-06-14T13:12:56.233308Z",
     "shell.execute_reply.started": "2023-06-14T13:12:56.167582Z"
    }
   },
   "outputs": [],
   "source": [
    "fraud_names = df[df[\"is_fraud\"] == 1][[\"first\", \"last\"]]"
   ]
  },
  {
   "cell_type": "code",
   "execution_count": 47,
   "metadata": {
    "execution": {
     "iopub.execute_input": "2023-06-14T13:12:56.236476Z",
     "iopub.status.busy": "2023-06-14T13:12:56.236095Z",
     "iopub.status.idle": "2023-06-14T13:12:56.254825Z",
     "shell.execute_reply": "2023-06-14T13:12:56.253449Z",
     "shell.execute_reply.started": "2023-06-14T13:12:56.236445Z"
    }
   },
   "outputs": [
    {
     "data": {
      "text/plain": [
       "first      last    \n",
       "Scott      Martin      27\n",
       "Jennifer   Scott       26\n",
       "Robert     James       22\n",
       "Susan      Garcia      20\n",
       "Linda      Davis       20\n",
       "                       ..\n",
       "William    Perry        2\n",
       "Jessica    Ward         2\n",
       "Rebecca    Erickson     2\n",
       "Debra      Stark        2\n",
       "Katherine  Tucker       2\n",
       "Length: 754, dtype: int64"
      ]
     },
     "execution_count": 47,
     "metadata": {},
     "output_type": "execute_result"
    }
   ],
   "source": [
    "fraud_names.value_counts()"
   ]
  },
  {
   "cell_type": "code",
   "execution_count": 48,
   "metadata": {
    "execution": {
     "iopub.execute_input": "2023-06-14T13:12:56.256521Z",
     "iopub.status.busy": "2023-06-14T13:12:56.256189Z",
     "iopub.status.idle": "2023-06-14T13:12:56.267567Z",
     "shell.execute_reply": "2023-06-14T13:12:56.266418Z",
     "shell.execute_reply.started": "2023-06-14T13:12:56.256493Z"
    }
   },
   "outputs": [],
   "source": [
    "names = fraud_names.value_counts().sort_values(ascending=False).head(10)"
   ]
  },
  {
   "cell_type": "code",
   "execution_count": 49,
   "metadata": {
    "execution": {
     "iopub.execute_input": "2023-06-14T13:12:56.269825Z",
     "iopub.status.busy": "2023-06-14T13:12:56.269330Z",
     "iopub.status.idle": "2023-06-14T13:12:56.613420Z",
     "shell.execute_reply": "2023-06-14T13:12:56.612333Z",
     "shell.execute_reply.started": "2023-06-14T13:12:56.269784Z"
    }
   },
   "outputs": [
    {
     "data": {
      "image/png": "[encoded data removed]",
      "text/plain": [
       "<Figure size 640x480 with 1 Axes>"
      ]
     },
     "metadata": {},
     "output_type": "display_data"
    }
   ],
   "source": [
    "names.plot(kind=\"bar\")\n",
    "plt.xlabel('Names')\n",
    "plt.ylabel('Count')\n",
    "plt.title('Fraudulent names')\n",
    "\n",
    "plt.show()"
   ]
  },
  {
   "cell_type": "markdown",
   "metadata": {},
   "source": [
    "So the fraudsters oftenly use Scott as either first or last name."
   ]
  },
  {
   "cell_type": "code",
   "execution_count": 50,
   "metadata": {
    "execution": {
     "iopub.execute_input": "2023-06-14T13:12:56.615304Z",
     "iopub.status.busy": "2023-06-14T13:12:56.614867Z",
     "iopub.status.idle": "2023-06-14T13:12:56.779343Z",
     "shell.execute_reply": "2023-06-14T13:12:56.778187Z",
     "shell.execute_reply.started": "2023-06-14T13:12:56.615265Z"
    }
   },
   "outputs": [],
   "source": [
    "gender_column = df[\"gender\"].value_counts()"
   ]
  },
  {
   "cell_type": "code",
   "execution_count": 51,
   "metadata": {
    "execution": {
     "iopub.execute_input": "2023-06-14T13:12:56.781419Z",
     "iopub.status.busy": "2023-06-14T13:12:56.780936Z",
     "iopub.status.idle": "2023-06-14T13:12:56.937424Z",
     "shell.execute_reply": "2023-06-14T13:12:56.935832Z",
     "shell.execute_reply.started": "2023-06-14T13:12:56.781378Z"
    }
   },
   "outputs": [
    {
     "data": {
      "text/plain": [
       "Text(0.5, 1.0, 'Gender Distribution')"
      ]
     },
     "execution_count": 51,
     "metadata": {},
     "output_type": "execute_result"
    },
    {
     "data": {
      "image/png": "[encoded data removed]",
      "text/plain": [
       "<Figure size 640x480 with 1 Axes>"
      ]
     },
     "metadata": {},
     "output_type": "display_data"
    }
   ],
   "source": [
    "plt.pie(gender_column, labels=gender_column.index, autopct='%1.1f%%')\n",
    "plt.title('Gender Distribution')"
   ]
  },
  {
   "cell_type": "code",
   "execution_count": 52,
   "metadata": {
    "execution": {
     "iopub.execute_input": "2023-06-14T13:12:56.941472Z",
     "iopub.status.busy": "2023-06-14T13:12:56.940826Z",
     "iopub.status.idle": "2023-06-14T13:12:56.973930Z",
     "shell.execute_reply": "2023-06-14T13:12:56.972235Z",
     "shell.execute_reply.started": "2023-06-14T13:12:56.941418Z"
    }
   },
   "outputs": [],
   "source": [
    "fraudulent_gender = df[df[\"is_fraud\"] == 1][\"gender\"].value_counts()"
   ]
  },
  {
   "cell_type": "code",
   "execution_count": 53,
   "metadata": {
    "execution": {
     "iopub.execute_input": "2023-06-14T13:12:56.977013Z",
     "iopub.status.busy": "2023-06-14T13:12:56.976470Z",
     "iopub.status.idle": "2023-06-14T13:12:57.133740Z",
     "shell.execute_reply": "2023-06-14T13:12:57.132216Z",
     "shell.execute_reply.started": "2023-06-14T13:12:56.976965Z"
    }
   },
   "outputs": [
    {
     "data": {
      "text/plain": [
       "Text(0.5, 1.0, 'Gender Distribution')"
      ]
     },
     "execution_count": 53,
     "metadata": {},
     "output_type": "execute_result"
    },
    {
     "data": {
      "image/png": "[encoded data removed]",
      "text/plain": [
       "<Figure size 640x480 with 1 Axes>"
      ]
     },
     "metadata": {},
     "output_type": "display_data"
    }
   ],
   "source": [
    "plt.pie(fraudulent_gender, labels=fraudulent_gender.index, autopct='%1.1f%%')\n",
    "plt.title('Gender Distribution')"
   ]
  },
  {
   "cell_type": "markdown",
   "metadata": {},
   "source": [
    "Well, both genders are equally fraudulent."
   ]
  },
  {
   "cell_type": "code",
   "execution_count": 54,
   "metadata": {
    "execution": {
     "iopub.execute_input": "2023-06-14T13:12:57.136925Z",
     "iopub.status.busy": "2023-06-14T13:12:57.136258Z",
     "iopub.status.idle": "2023-06-14T13:12:57.378479Z",
     "shell.execute_reply": "2023-06-14T13:12:57.377461Z",
     "shell.execute_reply.started": "2023-06-14T13:12:57.136859Z"
    }
   },
   "outputs": [],
   "source": [
    "df.drop([\"lat\", \"long\", \"city_pop\", \"dob\", \"trans_num\", \"unix_time\", \"merch_lat\", \"merch_long\"], axis=1, inplace=True)"
   ]
  },
  {
   "cell_type": "code",
   "execution_count": 55,
   "metadata": {
    "execution": {
     "iopub.execute_input": "2023-06-14T13:12:57.380122Z",
     "iopub.status.busy": "2023-06-14T13:12:57.379792Z",
     "iopub.status.idle": "2023-06-14T13:12:57.567222Z",
     "shell.execute_reply": "2023-06-14T13:12:57.565099Z",
     "shell.execute_reply.started": "2023-06-14T13:12:57.380093Z"
    }
   },
   "outputs": [],
   "source": [
    "df.drop(\"street\", axis=1, inplace=True)"
   ]
  },
  {
   "cell_type": "code",
   "execution_count": 56,
   "metadata": {
    "execution": {
     "iopub.execute_input": "2023-06-14T13:12:57.569707Z",
     "iopub.status.busy": "2023-06-14T13:12:57.569202Z",
     "iopub.status.idle": "2023-06-14T13:12:57.804338Z",
     "shell.execute_reply": "2023-06-14T13:12:57.802494Z",
     "shell.execute_reply.started": "2023-06-14T13:12:57.569657Z"
    }
   },
   "outputs": [
    {
     "data": {
      "text/plain": [
       "TX    94876\n",
       "NY    83501\n",
       "PA    79847\n",
       "CA    56360\n",
       "OH    46480\n",
       "MI    46154\n",
       "IL    43252\n",
       "FL    42671\n",
       "AL    40989\n",
       "MO    38403\n",
       "MN    31714\n",
       "AR    31127\n",
       "NC    30266\n",
       "WI    29368\n",
       "VA    29250\n",
       "SC    29190\n",
       "KY    28475\n",
       "IN    27580\n",
       "IA    26985\n",
       "OK    26671\n",
       "MD    26193\n",
       "GA    26063\n",
       "WV    25691\n",
       "NJ    24603\n",
       "NE    24168\n",
       "KS    22996\n",
       "MS    21188\n",
       "LA    20965\n",
       "WY    19322\n",
       "WA    18924\n",
       "OR    18597\n",
       "TN    17554\n",
       "ME    16505\n",
       "NM    16407\n",
       "ND    14786\n",
       "CO    13880\n",
       "MA    12376\n",
       "SD    12324\n",
       "VT    11768\n",
       "MT    11754\n",
       "AZ    10770\n",
       "UT    10699\n",
       "NH     8278\n",
       "CT     7702\n",
       "NV     5607\n",
       "ID     5545\n",
       "DC     3613\n",
       "HI     2559\n",
       "AK     2120\n",
       "RI      550\n",
       "DE        9\n",
       "Name: state, dtype: int64"
      ]
     },
     "execution_count": 56,
     "metadata": {},
     "output_type": "execute_result"
    }
   ],
   "source": [
    "df[\"state\"].value_counts()"
   ]
  },
  {
   "cell_type": "code",
   "execution_count": 57,
   "metadata": {
    "execution": {
     "iopub.execute_input": "2023-06-14T13:12:57.806854Z",
     "iopub.status.busy": "2023-06-14T13:12:57.806274Z",
     "iopub.status.idle": "2023-06-14T13:12:57.831425Z",
     "shell.execute_reply": "2023-06-14T13:12:57.829905Z",
     "shell.execute_reply.started": "2023-06-14T13:12:57.806806Z"
    }
   },
   "outputs": [],
   "source": [
    "state_fraud = df[df[\"is_fraud\"] == 1][\"state\"]"
   ]
  },
  {
   "cell_type": "code",
   "execution_count": 58,
   "metadata": {
    "execution": {
     "iopub.execute_input": "2023-06-14T13:12:57.833789Z",
     "iopub.status.busy": "2023-06-14T13:12:57.833398Z",
     "iopub.status.idle": "2023-06-14T13:12:57.843612Z",
     "shell.execute_reply": "2023-06-14T13:12:57.841880Z",
     "shell.execute_reply.started": "2023-06-14T13:12:57.833758Z"
    }
   },
   "outputs": [],
   "source": [
    "state_value_counts = state_fraud.value_counts().sort_values(ascending=True).head(10)"
   ]
  },
  {
   "cell_type": "code",
   "execution_count": 59,
   "metadata": {
    "execution": {
     "iopub.execute_input": "2023-06-14T13:12:57.845870Z",
     "iopub.status.busy": "2023-06-14T13:12:57.845505Z",
     "iopub.status.idle": "2023-06-14T13:12:58.184769Z",
     "shell.execute_reply": "2023-06-14T13:12:58.183123Z",
     "shell.execute_reply.started": "2023-06-14T13:12:57.845842Z"
    }
   },
   "outputs": [
    {
     "data": {
      "image/png": "[encoded data removed]",
      "text/plain": [
       "<Figure size 640x480 with 1 Axes>"
      ]
     },
     "metadata": {},
     "output_type": "display_data"
    }
   ],
   "source": [
    "state_value_counts.plot(kind=\"bar\")\n",
    "plt.xlabel('State')\n",
    "plt.ylabel('Count')\n",
    "plt.title('Fraudulent states')\n",
    "\n",
    "plt.show()"
   ]
  },
  {
   "cell_type": "markdown",
   "metadata": {},
   "source": [
    "The first state is Nevada, maybe because Las Vegas is there, followed by Arizona."
   ]
  },
  {
   "cell_type": "code",
   "execution_count": 60,
   "metadata": {
    "execution": {
     "iopub.execute_input": "2023-06-14T13:12:58.187034Z",
     "iopub.status.busy": "2023-06-14T13:12:58.186423Z",
     "iopub.status.idle": "2023-06-14T13:12:58.387497Z",
     "shell.execute_reply": "2023-06-14T13:12:58.385721Z",
     "shell.execute_reply.started": "2023-06-14T13:12:58.186954Z"
    }
   },
   "outputs": [],
   "source": [
    "df.drop(\"zip\", axis=1, inplace=True)"
   ]
  },
  {
   "cell_type": "code",
   "execution_count": 61,
   "metadata": {
    "execution": {
     "iopub.execute_input": "2023-06-14T13:12:58.389983Z",
     "iopub.status.busy": "2023-06-14T13:12:58.389411Z",
     "iopub.status.idle": "2023-06-14T13:12:58.407473Z",
     "shell.execute_reply": "2023-06-14T13:12:58.405233Z",
     "shell.execute_reply.started": "2023-06-14T13:12:58.389926Z"
    }
   },
   "outputs": [
    {
     "data": {
      "text/plain": [
       "Index(['merchant', 'category', 'amt', 'first', 'last', 'gender', 'city',\n",
       "       'state', 'job', 'is_fraud', 'date'],\n",
       "      dtype='object')"
      ]
     },
     "execution_count": 61,
     "metadata": {},
     "output_type": "execute_result"
    }
   ],
   "source": [
    "df.columns"
   ]
  },
  {
   "cell_type": "code",
   "execution_count": 62,
   "metadata": {
    "execution": {
     "iopub.execute_input": "2023-06-14T13:12:58.410050Z",
     "iopub.status.busy": "2023-06-14T13:12:58.409604Z",
     "iopub.status.idle": "2023-06-14T13:12:58.569042Z",
     "shell.execute_reply": "2023-06-14T13:12:58.567539Z",
     "shell.execute_reply.started": "2023-06-14T13:12:58.409990Z"
    }
   },
   "outputs": [
    {
     "data": {
      "text/plain": [
       "494"
      ]
     },
     "execution_count": 62,
     "metadata": {},
     "output_type": "execute_result"
    }
   ],
   "source": [
    "df[\"job\"].nunique()"
   ]
  },
  {
   "cell_type": "code",
   "execution_count": 63,
   "metadata": {
    "execution": {
     "iopub.execute_input": "2023-06-14T13:12:58.571627Z",
     "iopub.status.busy": "2023-06-14T13:12:58.570901Z",
     "iopub.status.idle": "2023-06-14T13:12:58.598471Z",
     "shell.execute_reply": "2023-06-14T13:12:58.597270Z",
     "shell.execute_reply.started": "2023-06-14T13:12:58.571377Z"
    }
   },
   "outputs": [],
   "source": [
    "fraudulent_jobs = df[df[\"is_fraud\"] == 1][\"job\"].value_counts().sort_values(ascending=True).head(10)"
   ]
  },
  {
   "cell_type": "code",
   "execution_count": 64,
   "metadata": {
    "execution": {
     "iopub.execute_input": "2023-06-14T13:12:58.600442Z",
     "iopub.status.busy": "2023-06-14T13:12:58.599993Z",
     "iopub.status.idle": "2023-06-14T13:12:58.942783Z",
     "shell.execute_reply": "2023-06-14T13:12:58.941757Z",
     "shell.execute_reply.started": "2023-06-14T13:12:58.600407Z"
    }
   },
   "outputs": [
    {
     "data": {
      "text/plain": [
       "Text(0.5, 1.0, 'Job distribution')"
      ]
     },
     "execution_count": 64,
     "metadata": {},
     "output_type": "execute_result"
    },
    {
     "data": {
      "image/png": "[encoded data removed]",
      "text/plain": [
       "<Figure size 640x480 with 1 Axes>"
      ]
     },
     "metadata": {},
     "output_type": "display_data"
    }
   ],
   "source": [
    "plt.pie(fraudulent_jobs, labels=fraudulent_jobs.index, autopct='%1.1f%%')\n",
    "plt.title('Job distribution')"
   ]
  },
  {
   "cell_type": "markdown",
   "metadata": {},
   "source": [
    "Well, the top most fraudulent jobs are kind of spread evenly. There are no distinguished jobs."
   ]
  },
  {
   "cell_type": "code",
   "execution_count": 65,
   "metadata": {
    "execution": {
     "iopub.execute_input": "2023-06-14T13:12:58.944884Z",
     "iopub.status.busy": "2023-06-14T13:12:58.943915Z",
     "iopub.status.idle": "2023-06-14T13:12:58.968729Z",
     "shell.execute_reply": "2023-06-14T13:12:58.967511Z",
     "shell.execute_reply.started": "2023-06-14T13:12:58.944850Z"
    }
   },
   "outputs": [],
   "source": [
    "fraudulent_cities = df[df[\"is_fraud\"] == 1][\"city\"].value_counts().sort_values(ascending=True).head(10)"
   ]
  },
  {
   "cell_type": "code",
   "execution_count": 66,
   "metadata": {
    "execution": {
     "iopub.execute_input": "2023-06-14T13:12:58.970628Z",
     "iopub.status.busy": "2023-06-14T13:12:58.970208Z",
     "iopub.status.idle": "2023-06-14T13:12:59.238485Z",
     "shell.execute_reply": "2023-06-14T13:12:59.237004Z",
     "shell.execute_reply.started": "2023-06-14T13:12:58.970589Z"
    }
   },
   "outputs": [
    {
     "data": {
      "text/plain": [
       "Text(0.5, 1.0, 'Cities distribution')"
      ]
     },
     "execution_count": 66,
     "metadata": {},
     "output_type": "execute_result"
    },
    {
     "data": {
      "image/png": "[encoded data removed]",
      "text/plain": [
       "<Figure size 640x480 with 1 Axes>"
      ]
     },
     "metadata": {},
     "output_type": "display_data"
    }
   ],
   "source": [
    "plt.pie(fraudulent_cities, labels=fraudulent_cities.index, autopct='%1.1f%%')\n",
    "plt.title('Cities distribution')"
   ]
  },
  {
   "cell_type": "code",
   "execution_count": 67,
   "metadata": {
    "execution": {
     "iopub.execute_input": "2023-06-14T13:12:59.241925Z",
     "iopub.status.busy": "2023-06-14T13:12:59.240486Z",
     "iopub.status.idle": "2023-06-14T13:12:59.254082Z",
     "shell.execute_reply": "2023-06-14T13:12:59.252590Z",
     "shell.execute_reply.started": "2023-06-14T13:12:59.241869Z"
    }
   },
   "outputs": [
    {
     "data": {
      "text/plain": [
       "Index(['merchant', 'category', 'amt', 'first', 'last', 'gender', 'city',\n",
       "       'state', 'job', 'is_fraud', 'date'],\n",
       "      dtype='object')"
      ]
     },
     "execution_count": 67,
     "metadata": {},
     "output_type": "execute_result"
    }
   ],
   "source": [
    "df.columns"
   ]
  },
  {
   "cell_type": "code",
   "execution_count": 68,
   "metadata": {
    "execution": {
     "iopub.execute_input": "2023-06-14T13:12:59.255988Z",
     "iopub.status.busy": "2023-06-14T13:12:59.255597Z",
     "iopub.status.idle": "2023-06-14T13:12:59.263688Z",
     "shell.execute_reply": "2023-06-14T13:12:59.262746Z",
     "shell.execute_reply.started": "2023-06-14T13:12:59.255949Z"
    }
   },
   "outputs": [],
   "source": [
    "enc_arr = [\"abc\",\"222\",\"sss\",\"fggh\",\"33f\"]"
   ]
  },
  {
   "cell_type": "code",
   "execution_count": 69,
   "metadata": {
    "execution": {
     "iopub.execute_input": "2023-06-14T13:12:59.265840Z",
     "iopub.status.busy": "2023-06-14T13:12:59.265222Z",
     "iopub.status.idle": "2023-06-14T13:12:59.276694Z",
     "shell.execute_reply": "2023-06-14T13:12:59.275322Z",
     "shell.execute_reply.started": "2023-06-14T13:12:59.265803Z"
    }
   },
   "outputs": [],
   "source": [
    "le = LabelEncoder()"
   ]
  },
  {
   "cell_type": "code",
   "execution_count": 70,
   "metadata": {
    "execution": {
     "iopub.execute_input": "2023-06-14T13:12:59.278684Z",
     "iopub.status.busy": "2023-06-14T13:12:59.278284Z",
     "iopub.status.idle": "2023-06-14T13:12:59.299520Z",
     "shell.execute_reply": "2023-06-14T13:12:59.298477Z",
     "shell.execute_reply.started": "2023-06-14T13:12:59.278653Z"
    }
   },
   "outputs": [],
   "source": [
    "result = le.fit_transform(enc_arr)"
   ]
  },
  {
   "cell_type": "code",
   "execution_count": 71,
   "metadata": {
    "execution": {
     "iopub.execute_input": "2023-06-14T13:12:59.301504Z",
     "iopub.status.busy": "2023-06-14T13:12:59.301099Z",
     "iopub.status.idle": "2023-06-14T13:12:59.316760Z",
     "shell.execute_reply": "2023-06-14T13:12:59.315566Z",
     "shell.execute_reply.started": "2023-06-14T13:12:59.301476Z"
    }
   },
   "outputs": [
    {
     "data": {
      "text/plain": [
       "array([2, 0, 4, 3, 1])"
      ]
     },
     "execution_count": 71,
     "metadata": {},
     "output_type": "execute_result"
    }
   ],
   "source": [
    "result"
   ]
  },
  {
   "cell_type": "code",
   "execution_count": 72,
   "metadata": {
    "execution": {
     "iopub.execute_input": "2023-06-14T13:12:59.319674Z",
     "iopub.status.busy": "2023-06-14T13:12:59.318698Z",
     "iopub.status.idle": "2023-06-14T13:13:00.333911Z",
     "shell.execute_reply": "2023-06-14T13:13:00.332406Z",
     "shell.execute_reply.started": "2023-06-14T13:12:59.319631Z"
    }
   },
   "outputs": [
    {
     "name": "stdout",
     "output_type": "stream",
     "text": [
      "The col is:  merchant\n",
      "693\n",
      "-----------\n",
      "The col is:  category\n",
      "14\n",
      "-----------\n",
      "The col is:  first\n",
      "352\n",
      "-----------\n",
      "The col is:  last\n",
      "481\n",
      "-----------\n",
      "The col is:  gender\n",
      "2\n",
      "-----------\n",
      "The col is:  city\n",
      "894\n",
      "-----------\n",
      "The col is:  state\n",
      "51\n",
      "-----------\n",
      "The col is:  job\n",
      "494\n",
      "-----------\n"
     ]
    }
   ],
   "source": [
    "for col in df.columns:\n",
    "    if type(df[col][0]) == str:   \n",
    "        print(\"The col is: \", col)\n",
    "        print(df[col].nunique())\n",
    "        print(\"-----------\")"
   ]
  },
  {
   "cell_type": "code",
   "execution_count": 73,
   "metadata": {
    "execution": {
     "iopub.execute_input": "2023-06-14T13:13:00.336886Z",
     "iopub.status.busy": "2023-06-14T13:13:00.336035Z",
     "iopub.status.idle": "2023-06-14T13:13:04.604283Z",
     "shell.execute_reply": "2023-06-14T13:13:04.603204Z",
     "shell.execute_reply.started": "2023-06-14T13:13:00.336844Z"
    }
   },
   "outputs": [],
   "source": [
    "for col in df.columns:\n",
    "    if type(df[col][0]) == str:   \n",
    "        df[col] = le.fit_transform(df[col])"
   ]
  },
  {
   "cell_type": "code",
   "execution_count": 74,
   "metadata": {
    "execution": {
     "iopub.execute_input": "2023-06-14T13:13:04.606043Z",
     "iopub.status.busy": "2023-06-14T13:13:04.605618Z",
     "iopub.status.idle": "2023-06-14T13:13:04.609903Z",
     "shell.execute_reply": "2023-06-14T13:13:04.609186Z",
     "shell.execute_reply.started": "2023-06-14T13:13:04.606015Z"
    }
   },
   "outputs": [],
   "source": [
    "min_max = MinMaxScaler()"
   ]
  },
  {
   "cell_type": "code",
   "execution_count": 75,
   "metadata": {
    "execution": {
     "iopub.execute_input": "2023-06-14T13:13:04.611319Z",
     "iopub.status.busy": "2023-06-14T13:13:04.610995Z",
     "iopub.status.idle": "2023-06-14T13:13:04.681549Z",
     "shell.execute_reply": "2023-06-14T13:13:04.680455Z",
     "shell.execute_reply.started": "2023-06-14T13:13:04.611292Z"
    }
   },
   "outputs": [],
   "source": [
    "df.drop(\"is_fraud\", axis=1, inplace=True)"
   ]
  },
  {
   "cell_type": "code",
   "execution_count": 76,
   "metadata": {
    "execution": {
     "iopub.execute_input": "2023-06-14T13:13:04.683318Z",
     "iopub.status.busy": "2023-06-14T13:13:04.682899Z",
     "iopub.status.idle": "2023-06-14T13:13:04.790200Z",
     "shell.execute_reply": "2023-06-14T13:13:04.789107Z",
     "shell.execute_reply.started": "2023-06-14T13:13:04.683289Z"
    }
   },
   "outputs": [],
   "source": [
    "for col in df.columns:\n",
    "    if type(df[col][0]) != str:\n",
    "        df[col] = min_max.fit_transform(df[col].values.reshape(-1,1))"
   ]
  },
  {
   "cell_type": "code",
   "execution_count": 77,
   "metadata": {
    "execution": {
     "iopub.execute_input": "2023-06-14T13:13:04.791921Z",
     "iopub.status.busy": "2023-06-14T13:13:04.791590Z",
     "iopub.status.idle": "2023-06-14T13:13:04.800912Z",
     "shell.execute_reply": "2023-06-14T13:13:04.800170Z",
     "shell.execute_reply.started": "2023-06-14T13:13:04.791893Z"
    }
   },
   "outputs": [
    {
     "data": {
      "text/plain": [
       "0          0.000137\n",
       "1          0.003670\n",
       "2          0.007569\n",
       "3          0.001520\n",
       "4          0.001415\n",
       "             ...   \n",
       "1296670    0.000503\n",
       "1296671    0.001751\n",
       "1296672    0.003625\n",
       "1296673    0.002553\n",
       "1296674    0.000114\n",
       "Name: amt, Length: 1296675, dtype: float64"
      ]
     },
     "execution_count": 77,
     "metadata": {},
     "output_type": "execute_result"
    }
   ],
   "source": [
    "df[\"amt\"]"
   ]
  },
  {
   "cell_type": "code",
   "execution_count": 78,
   "metadata": {
    "execution": {
     "iopub.execute_input": "2023-06-14T13:13:04.802172Z",
     "iopub.status.busy": "2023-06-14T13:13:04.801835Z",
     "iopub.status.idle": "2023-06-14T13:13:05.178024Z",
     "shell.execute_reply": "2023-06-14T13:13:05.176768Z",
     "shell.execute_reply.started": "2023-06-14T13:13:04.802119Z"
    }
   },
   "outputs": [],
   "source": [
    "x_train, x_test, y_train, y_test = train_test_split(df, target_col, test_size=0.2)"
   ]
  },
  {
   "cell_type": "markdown",
   "metadata": {},
   "source": [
    "Everything scaled and transformed to numerical values, we're ready for some predictions. Let's start with the simplest ones and work our way up to the complex ones."
   ]
  },
  {
   "cell_type": "code",
   "execution_count": 79,
   "metadata": {
    "execution": {
     "iopub.execute_input": "2023-06-14T13:13:05.179788Z",
     "iopub.status.busy": "2023-06-14T13:13:05.179438Z",
     "iopub.status.idle": "2023-06-14T13:13:05.189994Z",
     "shell.execute_reply": "2023-06-14T13:13:05.188868Z",
     "shell.execute_reply.started": "2023-06-14T13:13:05.179761Z"
    }
   },
   "outputs": [
    {
     "data": {
      "text/plain": [
       "1037340"
      ]
     },
     "execution_count": 79,
     "metadata": {},
     "output_type": "execute_result"
    }
   ],
   "source": [
    "len(x_train)"
   ]
  },
  {
   "cell_type": "code",
   "execution_count": 80,
   "metadata": {
    "execution": {
     "iopub.execute_input": "2023-06-14T13:13:05.192332Z",
     "iopub.status.busy": "2023-06-14T13:13:05.191721Z",
     "iopub.status.idle": "2023-06-14T13:13:05.200969Z",
     "shell.execute_reply": "2023-06-14T13:13:05.199630Z",
     "shell.execute_reply.started": "2023-06-14T13:13:05.192282Z"
    }
   },
   "outputs": [],
   "source": [
    "assert(len(x_train) + len(x_test) == len(df))"
   ]
  },
  {
   "cell_type": "code",
   "execution_count": null,
   "metadata": {},
   "outputs": [],
   "source": []
  },
  {
   "cell_type": "code",
   "execution_count": 81,
   "metadata": {
    "execution": {
     "iopub.execute_input": "2023-06-14T13:13:05.203299Z",
     "iopub.status.busy": "2023-06-14T13:13:05.202826Z",
     "iopub.status.idle": "2023-06-14T13:13:05.214025Z",
     "shell.execute_reply": "2023-06-14T13:13:05.212796Z",
     "shell.execute_reply.started": "2023-06-14T13:13:05.203256Z"
    }
   },
   "outputs": [],
   "source": [
    "linear_regression = LinearRegression()"
   ]
  },
  {
   "cell_type": "code",
   "execution_count": 82,
   "metadata": {
    "execution": {
     "iopub.execute_input": "2023-06-14T13:13:05.216661Z",
     "iopub.status.busy": "2023-06-14T13:13:05.216193Z",
     "iopub.status.idle": "2023-06-14T13:13:05.847038Z",
     "shell.execute_reply": "2023-06-14T13:13:05.846117Z",
     "shell.execute_reply.started": "2023-06-14T13:13:05.216621Z"
    }
   },
   "outputs": [],
   "source": [
    "linear_fit = linear_regression.fit(x_train,y_train)"
   ]
  },
  {
   "cell_type": "code",
   "execution_count": 83,
   "metadata": {
    "execution": {
     "iopub.execute_input": "2023-06-14T13:13:05.849482Z",
     "iopub.status.busy": "2023-06-14T13:13:05.848250Z",
     "iopub.status.idle": "2023-06-14T13:13:05.856580Z",
     "shell.execute_reply": "2023-06-14T13:13:05.855547Z",
     "shell.execute_reply.started": "2023-06-14T13:13:05.849442Z"
    }
   },
   "outputs": [
    {
     "data": {
      "text/plain": [
       "((1037340, 10), (1037340,))"
      ]
     },
     "execution_count": 83,
     "metadata": {},
     "output_type": "execute_result"
    }
   ],
   "source": [
    "x_train.shape, y_train.shape"
   ]
  },
  {
   "cell_type": "code",
   "execution_count": 84,
   "metadata": {
    "execution": {
     "iopub.execute_input": "2023-06-14T13:13:05.859282Z",
     "iopub.status.busy": "2023-06-14T13:13:05.858027Z",
     "iopub.status.idle": "2023-06-14T13:13:05.871648Z",
     "shell.execute_reply": "2023-06-14T13:13:05.870197Z",
     "shell.execute_reply.started": "2023-06-14T13:13:05.859244Z"
    }
   },
   "outputs": [
    {
     "data": {
      "text/plain": [
       "((259335, 10), (259335,))"
      ]
     },
     "execution_count": 84,
     "metadata": {},
     "output_type": "execute_result"
    }
   ],
   "source": [
    "x_test.shape, y_test.shape"
   ]
  },
  {
   "cell_type": "code",
   "execution_count": 85,
   "metadata": {
    "execution": {
     "iopub.execute_input": "2023-06-14T13:13:05.874125Z",
     "iopub.status.busy": "2023-06-14T13:13:05.873230Z",
     "iopub.status.idle": "2023-06-14T13:13:05.890373Z",
     "shell.execute_reply": "2023-06-14T13:13:05.888881Z",
     "shell.execute_reply.started": "2023-06-14T13:13:05.874052Z"
    }
   },
   "outputs": [],
   "source": [
    "linear_pred = linear_fit.predict(x_test)"
   ]
  },
  {
   "cell_type": "code",
   "execution_count": 86,
   "metadata": {
    "execution": {
     "iopub.execute_input": "2023-06-14T13:13:05.893991Z",
     "iopub.status.busy": "2023-06-14T13:13:05.892886Z",
     "iopub.status.idle": "2023-06-14T13:13:05.903858Z",
     "shell.execute_reply": "2023-06-14T13:13:05.902360Z",
     "shell.execute_reply.started": "2023-06-14T13:13:05.893935Z"
    }
   },
   "outputs": [
    {
     "data": {
      "text/plain": [
       "((259335,), (259335,))"
      ]
     },
     "execution_count": 86,
     "metadata": {},
     "output_type": "execute_result"
    }
   ],
   "source": [
    "y_test.shape, linear_pred.shape"
   ]
  },
  {
   "cell_type": "code",
   "execution_count": 87,
   "metadata": {
    "execution": {
     "iopub.execute_input": "2023-06-14T13:13:05.907624Z",
     "iopub.status.busy": "2023-06-14T13:13:05.906478Z",
     "iopub.status.idle": "2023-06-14T13:13:05.925336Z",
     "shell.execute_reply": "2023-06-14T13:13:05.923247Z",
     "shell.execute_reply.started": "2023-06-14T13:13:05.907567Z"
    }
   },
   "outputs": [],
   "source": [
    "linear_pred = np.where(linear_pred >= 0.5, 1, 0)"
   ]
  },
  {
   "cell_type": "code",
   "execution_count": 88,
   "metadata": {
    "execution": {
     "iopub.execute_input": "2023-06-14T13:13:05.927893Z",
     "iopub.status.busy": "2023-06-14T13:13:05.927361Z",
     "iopub.status.idle": "2023-06-14T13:13:06.068828Z",
     "shell.execute_reply": "2023-06-14T13:13:06.067611Z",
     "shell.execute_reply.started": "2023-06-14T13:13:05.927843Z"
    }
   },
   "outputs": [
    {
     "data": {
      "text/plain": [
       "(1, 0)"
      ]
     },
     "execution_count": 88,
     "metadata": {},
     "output_type": "execute_result"
    }
   ],
   "source": [
    "max(linear_pred), min(linear_pred)"
   ]
  },
  {
   "cell_type": "code",
   "execution_count": 89,
   "metadata": {
    "execution": {
     "iopub.execute_input": "2023-06-14T13:13:06.070523Z",
     "iopub.status.busy": "2023-06-14T13:13:06.070181Z",
     "iopub.status.idle": "2023-06-14T13:13:06.381436Z",
     "shell.execute_reply": "2023-06-14T13:13:06.380209Z",
     "shell.execute_reply.started": "2023-06-14T13:13:06.070496Z"
    }
   },
   "outputs": [
    {
     "name": "stdout",
     "output_type": "stream",
     "text": [
      "              precision    recall  f1-score   support\n",
      "\n",
      "           0       0.99      1.00      1.00    257867\n",
      "           1       0.00      0.00      0.00      1468\n",
      "\n",
      "    accuracy                           0.99    259335\n",
      "   macro avg       0.50      0.50      0.50    259335\n",
      "weighted avg       0.99      0.99      0.99    259335\n",
      "\n"
     ]
    }
   ],
   "source": [
    "print(classification_report(y_test, linear_pred))"
   ]
  },
  {
   "cell_type": "markdown",
   "metadata": {},
   "source": [
    "That's not really good. Let's try some other algorithm."
   ]
  },
  {
   "cell_type": "code",
   "execution_count": 90,
   "metadata": {
    "execution": {
     "iopub.execute_input": "2023-06-14T13:13:06.383308Z",
     "iopub.status.busy": "2023-06-14T13:13:06.382864Z",
     "iopub.status.idle": "2023-06-14T13:13:06.388297Z",
     "shell.execute_reply": "2023-06-14T13:13:06.387216Z",
     "shell.execute_reply.started": "2023-06-14T13:13:06.383271Z"
    }
   },
   "outputs": [],
   "source": [
    "random_forest = RandomForestClassifier(n_estimators=50, max_depth=5)"
   ]
  },
  {
   "cell_type": "code",
   "execution_count": 91,
   "metadata": {
    "execution": {
     "iopub.execute_input": "2023-06-14T13:13:06.389811Z",
     "iopub.status.busy": "2023-06-14T13:13:06.389421Z",
     "iopub.status.idle": "2023-06-14T13:15:03.038157Z",
     "shell.execute_reply": "2023-06-14T13:15:03.036600Z",
     "shell.execute_reply.started": "2023-06-14T13:13:06.389775Z"
    }
   },
   "outputs": [],
   "source": [
    "random_forest_fit = random_forest.fit(x_train, y_train)"
   ]
  },
  {
   "cell_type": "code",
   "execution_count": 92,
   "metadata": {
    "execution": {
     "iopub.execute_input": "2023-06-14T13:15:03.041256Z",
     "iopub.status.busy": "2023-06-14T13:15:03.040040Z",
     "iopub.status.idle": "2023-06-14T13:15:03.922807Z",
     "shell.execute_reply": "2023-06-14T13:15:03.920957Z",
     "shell.execute_reply.started": "2023-06-14T13:15:03.041212Z"
    }
   },
   "outputs": [],
   "source": [
    "random_pred = random_forest_fit.predict(x_test)"
   ]
  },
  {
   "cell_type": "code",
   "execution_count": 93,
   "metadata": {
    "execution": {
     "iopub.execute_input": "2023-06-14T13:15:03.925615Z",
     "iopub.status.busy": "2023-06-14T13:15:03.925021Z",
     "iopub.status.idle": "2023-06-14T13:15:04.298492Z",
     "shell.execute_reply": "2023-06-14T13:15:04.296851Z",
     "shell.execute_reply.started": "2023-06-14T13:15:03.925564Z"
    }
   },
   "outputs": [
    {
     "name": "stdout",
     "output_type": "stream",
     "text": [
      "              precision    recall  f1-score   support\n",
      "\n",
      "           0       0.99      1.00      1.00    257867\n",
      "           1       0.89      0.02      0.03      1468\n",
      "\n",
      "    accuracy                           0.99    259335\n",
      "   macro avg       0.94      0.51      0.52    259335\n",
      "weighted avg       0.99      0.99      0.99    259335\n",
      "\n"
     ]
    }
   ],
   "source": [
    "print(classification_report(y_test, random_pred))"
   ]
  },
  {
   "cell_type": "markdown",
   "metadata": {},
   "source": [
    "Well, that's not exactly much better."
   ]
  },
  {
   "cell_type": "code",
   "execution_count": 94,
   "metadata": {
    "execution": {
     "iopub.execute_input": "2023-06-14T13:15:04.300937Z",
     "iopub.status.busy": "2023-06-14T13:15:04.300409Z",
     "iopub.status.idle": "2023-06-14T13:15:04.307701Z",
     "shell.execute_reply": "2023-06-14T13:15:04.306047Z",
     "shell.execute_reply.started": "2023-06-14T13:15:04.300888Z"
    }
   },
   "outputs": [],
   "source": [
    "#svm = svm.SVC(kernel=\"linear\")"
   ]
  },
  {
   "cell_type": "code",
   "execution_count": 95,
   "metadata": {
    "execution": {
     "iopub.execute_input": "2023-06-14T13:15:04.309854Z",
     "iopub.status.busy": "2023-06-14T13:15:04.309463Z",
     "iopub.status.idle": "2023-06-14T13:15:04.326367Z",
     "shell.execute_reply": "2023-06-14T13:15:04.324411Z",
     "shell.execute_reply.started": "2023-06-14T13:15:04.309822Z"
    }
   },
   "outputs": [],
   "source": [
    "#svm_fit = svm.fit(x_train, y_train)"
   ]
  },
  {
   "cell_type": "code",
   "execution_count": 96,
   "metadata": {
    "execution": {
     "iopub.execute_input": "2023-06-14T13:15:04.329071Z",
     "iopub.status.busy": "2023-06-14T13:15:04.328492Z",
     "iopub.status.idle": "2023-06-14T13:15:04.343854Z",
     "shell.execute_reply": "2023-06-14T13:15:04.341952Z",
     "shell.execute_reply.started": "2023-06-14T13:15:04.329023Z"
    }
   },
   "outputs": [],
   "source": [
    "knn = KNeighborsClassifier(n_neighbors=3)"
   ]
  },
  {
   "cell_type": "code",
   "execution_count": 97,
   "metadata": {
    "execution": {
     "iopub.execute_input": "2023-06-14T13:15:04.346750Z",
     "iopub.status.busy": "2023-06-14T13:15:04.345852Z",
     "iopub.status.idle": "2023-06-14T13:15:09.362193Z",
     "shell.execute_reply": "2023-06-14T13:15:09.360746Z",
     "shell.execute_reply.started": "2023-06-14T13:15:04.346710Z"
    }
   },
   "outputs": [],
   "source": [
    "knn_fit = knn.fit(x_train, y_train)"
   ]
  },
  {
   "cell_type": "code",
   "execution_count": 98,
   "metadata": {
    "execution": {
     "iopub.execute_input": "2023-06-14T13:15:09.364088Z",
     "iopub.status.busy": "2023-06-14T13:15:09.363729Z",
     "iopub.status.idle": "2023-06-14T13:15:53.054405Z",
     "shell.execute_reply": "2023-06-14T13:15:53.053229Z",
     "shell.execute_reply.started": "2023-06-14T13:15:09.364058Z"
    }
   },
   "outputs": [],
   "source": [
    "knn_predict = knn_fit.predict(x_test)"
   ]
  },
  {
   "cell_type": "code",
   "execution_count": 99,
   "metadata": {
    "execution": {
     "iopub.execute_input": "2023-06-14T13:15:53.056935Z",
     "iopub.status.busy": "2023-06-14T13:15:53.055901Z",
     "iopub.status.idle": "2023-06-14T13:15:53.370820Z",
     "shell.execute_reply": "2023-06-14T13:15:53.369680Z",
     "shell.execute_reply.started": "2023-06-14T13:15:53.056895Z"
    }
   },
   "outputs": [
    {
     "name": "stdout",
     "output_type": "stream",
     "text": [
      "              precision    recall  f1-score   support\n",
      "\n",
      "           0       0.99      1.00      1.00    257867\n",
      "           1       0.33      0.08      0.13      1468\n",
      "\n",
      "    accuracy                           0.99    259335\n",
      "   macro avg       0.66      0.54      0.56    259335\n",
      "weighted avg       0.99      0.99      0.99    259335\n",
      "\n"
     ]
    }
   ],
   "source": [
    "print(classification_report(y_test, knn_predict))"
   ]
  },
  {
   "cell_type": "markdown",
   "metadata": {},
   "source": [
    "That's better than the rest of them!"
   ]
  },
  {
   "cell_type": "code",
   "execution_count": 100,
   "metadata": {
    "execution": {
     "iopub.execute_input": "2023-06-14T13:15:53.373371Z",
     "iopub.status.busy": "2023-06-14T13:15:53.372602Z",
     "iopub.status.idle": "2023-06-14T13:15:53.379398Z",
     "shell.execute_reply": "2023-06-14T13:15:53.377951Z",
     "shell.execute_reply.started": "2023-06-14T13:15:53.373327Z"
    }
   },
   "outputs": [],
   "source": [
    "boost_classifier = GradientBoostingClassifier(n_estimators=50)"
   ]
  },
  {
   "cell_type": "code",
   "execution_count": 101,
   "metadata": {
    "execution": {
     "iopub.execute_input": "2023-06-14T13:15:53.383493Z",
     "iopub.status.busy": "2023-06-14T13:15:53.383095Z",
     "iopub.status.idle": "2023-06-14T13:18:34.717879Z",
     "shell.execute_reply": "2023-06-14T13:18:34.715866Z",
     "shell.execute_reply.started": "2023-06-14T13:15:53.383465Z"
    }
   },
   "outputs": [],
   "source": [
    "boost_fit = boost_classifier.fit(x_train, y_train)"
   ]
  },
  {
   "cell_type": "code",
   "execution_count": 102,
   "metadata": {
    "execution": {
     "iopub.execute_input": "2023-06-14T13:18:34.720222Z",
     "iopub.status.busy": "2023-06-14T13:18:34.719771Z",
     "iopub.status.idle": "2023-06-14T13:18:34.932701Z",
     "shell.execute_reply": "2023-06-14T13:18:34.931103Z",
     "shell.execute_reply.started": "2023-06-14T13:18:34.720190Z"
    }
   },
   "outputs": [],
   "source": [
    "boost_predict = boost_fit.predict(x_test)"
   ]
  },
  {
   "cell_type": "code",
   "execution_count": 103,
   "metadata": {
    "execution": {
     "iopub.execute_input": "2023-06-14T13:18:34.935506Z",
     "iopub.status.busy": "2023-06-14T13:18:34.935077Z",
     "iopub.status.idle": "2023-06-14T13:18:35.315604Z",
     "shell.execute_reply": "2023-06-14T13:18:35.313511Z",
     "shell.execute_reply.started": "2023-06-14T13:18:34.935477Z"
    }
   },
   "outputs": [
    {
     "name": "stdout",
     "output_type": "stream",
     "text": [
      "              precision    recall  f1-score   support\n",
      "\n",
      "           0       1.00      1.00      1.00    257867\n",
      "           1       0.79      0.56      0.65      1468\n",
      "\n",
      "    accuracy                           1.00    259335\n",
      "   macro avg       0.89      0.78      0.83    259335\n",
      "weighted avg       1.00      1.00      1.00    259335\n",
      "\n"
     ]
    }
   ],
   "source": [
    "print(classification_report(y_test, boost_predict))"
   ]
  },
  {
   "cell_type": "markdown",
   "metadata": {},
   "source": [
    "No way, this time the algorithm is quite good. I've even turned down the estimators due to hardware limitations."
   ]
  },
  {
   "cell_type": "code",
   "execution_count": null,
   "metadata": {},
   "outputs": [],
   "source": []
  },
  {
   "cell_type": "code",
   "execution_count": 104,
   "metadata": {
    "execution": {
     "iopub.execute_input": "2023-06-14T13:18:35.320207Z",
     "iopub.status.busy": "2023-06-14T13:18:35.319565Z",
     "iopub.status.idle": "2023-06-14T13:18:35.330293Z",
     "shell.execute_reply": "2023-06-14T13:18:35.328111Z",
     "shell.execute_reply.started": "2023-06-14T13:18:35.320154Z"
    }
   },
   "outputs": [],
   "source": [
    "class CustomDataset(Dataset):\n",
    "    def __init__(self, data, labels):\n",
    "        self.data = data\n",
    "        self.labels = labels\n",
    "    \n",
    "    def __len__(self):\n",
    "        return len(self.data)\n",
    "\n",
    "    def __getitem__(self, index):\n",
    "        element = self.data.iloc[index].values\n",
    "        label = self.labels.iloc[index]\n",
    "        return torch.Tensor(element), label"
   ]
  },
  {
   "cell_type": "code",
   "execution_count": 105,
   "metadata": {
    "execution": {
     "iopub.execute_input": "2023-06-14T13:18:35.332851Z",
     "iopub.status.busy": "2023-06-14T13:18:35.332322Z",
     "iopub.status.idle": "2023-06-14T13:18:35.350210Z",
     "shell.execute_reply": "2023-06-14T13:18:35.348513Z",
     "shell.execute_reply.started": "2023-06-14T13:18:35.332812Z"
    }
   },
   "outputs": [],
   "source": [
    "custom_df = CustomDataset(x_train, y_train)"
   ]
  },
  {
   "cell_type": "code",
   "execution_count": 106,
   "metadata": {
    "execution": {
     "iopub.execute_input": "2023-06-14T13:18:35.352522Z",
     "iopub.status.busy": "2023-06-14T13:18:35.352114Z",
     "iopub.status.idle": "2023-06-14T13:18:35.365625Z",
     "shell.execute_reply": "2023-06-14T13:18:35.363958Z",
     "shell.execute_reply.started": "2023-06-14T13:18:35.352491Z"
    }
   },
   "outputs": [],
   "source": [
    "dataloader = DataLoader(custom_df, batch_size=32, shuffle=True)"
   ]
  },
  {
   "cell_type": "code",
   "execution_count": 107,
   "metadata": {
    "execution": {
     "iopub.execute_input": "2023-06-14T13:18:35.368339Z",
     "iopub.status.busy": "2023-06-14T13:18:35.367769Z",
     "iopub.status.idle": "2023-06-14T13:18:35.382632Z",
     "shell.execute_reply": "2023-06-14T13:18:35.381473Z",
     "shell.execute_reply.started": "2023-06-14T13:18:35.368293Z"
    }
   },
   "outputs": [],
   "source": [
    "class DeepClassifier(nn.Module):\n",
    "    def __init__(self):\n",
    "        super(DeepClassifier, self).__init__()\n",
    "        \n",
    "        self.sequential = nn.Sequential(\n",
    "            nn.Linear(10, 512),\n",
    "            nn.ReLU(),\n",
    "            nn.Linear(512,512),\n",
    "            nn.Dropout(0.5),\n",
    "            nn.ReLU(),\n",
    "            nn.Linear(512,512),\n",
    "            nn.Dropout(0.5),\n",
    "            nn.ReLU(),\n",
    "            nn.Linear(512,256),\n",
    "            nn.ReLU(),\n",
    "            nn.Linear(256,128),\n",
    "            nn.Dropout(0.4),\n",
    "            nn.ReLU(),\n",
    "            nn.Linear(128, 64),\n",
    "            nn.ReLU(),\n",
    "            nn.Linear(64, 1),\n",
    "            #nn.Sigmoid()\n",
    "        )\n",
    "    \n",
    "    def forward(self, data):\n",
    "        return self.sequential(data)"
   ]
  },
  {
   "cell_type": "code",
   "execution_count": 108,
   "metadata": {
    "execution": {
     "iopub.execute_input": "2023-06-14T13:18:35.385317Z",
     "iopub.status.busy": "2023-06-14T13:18:35.384101Z",
     "iopub.status.idle": "2023-06-14T13:18:35.408261Z",
     "shell.execute_reply": "2023-06-14T13:18:35.406596Z",
     "shell.execute_reply.started": "2023-06-14T13:18:35.385272Z"
    }
   },
   "outputs": [],
   "source": [
    "neural_classifier = DeepClassifier()"
   ]
  },
  {
   "cell_type": "code",
   "execution_count": 109,
   "metadata": {
    "execution": {
     "iopub.execute_input": "2023-06-14T13:18:35.411400Z",
     "iopub.status.busy": "2023-06-14T13:18:35.410759Z",
     "iopub.status.idle": "2023-06-14T13:18:35.419231Z",
     "shell.execute_reply": "2023-06-14T13:18:35.417502Z",
     "shell.execute_reply.started": "2023-06-14T13:18:35.411353Z"
    }
   },
   "outputs": [],
   "source": [
    "n_epochs = 3\n",
    "lr = 0.0001\n",
    "optimizer = torch.optim.Adam(neural_classifier.parameters(), lr=lr)\n",
    "loss = nn.BCEWithLogitsLoss()"
   ]
  },
  {
   "cell_type": "code",
   "execution_count": 110,
   "metadata": {
    "execution": {
     "iopub.execute_input": "2023-06-14T13:18:35.421651Z",
     "iopub.status.busy": "2023-06-14T13:18:35.420848Z",
     "iopub.status.idle": "2023-06-14T13:18:35.435310Z",
     "shell.execute_reply": "2023-06-14T13:18:35.433793Z",
     "shell.execute_reply.started": "2023-06-14T13:18:35.421609Z"
    }
   },
   "outputs": [],
   "source": [
    "def train():\n",
    "    count = 0\n",
    "    for epoch in range(n_epochs):\n",
    "        for data, label in tqdm(dataloader):\n",
    "            neural_classifier.train()\n",
    "            \n",
    "            label = label.to(torch.float32)\n",
    "            label = torch.unsqueeze(label, 1)\n",
    "\n",
    "            output = neural_classifier(data)\n",
    "            \n",
    "            train_loss = loss(label, output)\n",
    "\n",
    "            optimizer.step()\n",
    "            train_loss.backward()\n",
    "            optimizer.zero_grad()\n",
    "            \n",
    "            count += 1\n",
    "            if count % 5000 == 0:\n",
    "                print(train_loss.item())"
   ]
  },
  {
   "cell_type": "code",
   "execution_count": 111,
   "metadata": {
    "execution": {
     "iopub.execute_input": "2023-06-14T13:18:35.438652Z",
     "iopub.status.busy": "2023-06-14T13:18:35.437196Z",
     "iopub.status.idle": "2023-06-14T13:29:04.624946Z",
     "shell.execute_reply": "2023-06-14T13:29:04.623770Z",
     "shell.execute_reply.started": "2023-06-14T13:18:35.438604Z"
    }
   },
   "outputs": [
    {
     "name": "stderr",
     "output_type": "stream",
     "text": [
      " 16%|█▌        | 5028/32417 [00:33<02:53, 157.69it/s]"
     ]
    },
    {
     "name": "stdout",
     "output_type": "stream",
     "text": [
      "0.6931471824645996\n"
     ]
    },
    {
     "name": "stderr",
     "output_type": "stream",
     "text": [
      " 31%|███       | 10017/32417 [01:05<02:18, 161.29it/s]"
     ]
    },
    {
     "name": "stdout",
     "output_type": "stream",
     "text": [
      "0.6931471824645996\n"
     ]
    },
    {
     "name": "stderr",
     "output_type": "stream",
     "text": [
      " 46%|████▋     | 15020/32417 [01:37<01:47, 162.45it/s]"
     ]
    },
    {
     "name": "stdout",
     "output_type": "stream",
     "text": [
      "0.6931471824645996\n"
     ]
    },
    {
     "name": "stderr",
     "output_type": "stream",
     "text": [
      " 62%|██████▏   | 20016/32417 [02:08<01:16, 161.75it/s]"
     ]
    },
    {
     "name": "stdout",
     "output_type": "stream",
     "text": [
      "0.6931471824645996\n"
     ]
    },
    {
     "name": "stderr",
     "output_type": "stream",
     "text": [
      " 77%|███████▋  | 25025/32417 [02:40<00:45, 162.89it/s]"
     ]
    },
    {
     "name": "stdout",
     "output_type": "stream",
     "text": [
      "0.6931471824645996\n"
     ]
    },
    {
     "name": "stderr",
     "output_type": "stream",
     "text": [
      " 93%|█████████▎| 30025/32417 [03:12<00:15, 151.57it/s]"
     ]
    },
    {
     "name": "stdout",
     "output_type": "stream",
     "text": [
      "0.6931471824645996\n"
     ]
    },
    {
     "name": "stderr",
     "output_type": "stream",
     "text": [
      "100%|██████████| 32417/32417 [03:27<00:00, 156.24it/s]\n",
      "  8%|▊         | 2607/32417 [00:16<03:05, 160.34it/s]"
     ]
    },
    {
     "name": "stdout",
     "output_type": "stream",
     "text": [
      "0.6931471824645996\n"
     ]
    },
    {
     "name": "stderr",
     "output_type": "stream",
     "text": [
      " 23%|██▎       | 7604/32417 [00:49<02:34, 160.62it/s]"
     ]
    },
    {
     "name": "stdout",
     "output_type": "stream",
     "text": [
      "0.6931471824645996\n"
     ]
    },
    {
     "name": "stderr",
     "output_type": "stream",
     "text": [
      " 39%|███▉      | 12603/32417 [01:22<02:27, 134.71it/s]"
     ]
    },
    {
     "name": "stdout",
     "output_type": "stream",
     "text": [
      "0.6931471824645996\n"
     ]
    },
    {
     "name": "stderr",
     "output_type": "stream",
     "text": [
      " 54%|█████▍    | 17611/32417 [01:53<01:33, 158.41it/s]"
     ]
    },
    {
     "name": "stdout",
     "output_type": "stream",
     "text": [
      "0.6931471824645996\n"
     ]
    },
    {
     "name": "stderr",
     "output_type": "stream",
     "text": [
      " 70%|██████▉   | 22613/32417 [02:26<00:59, 163.74it/s]"
     ]
    },
    {
     "name": "stdout",
     "output_type": "stream",
     "text": [
      "0.6931471824645996\n"
     ]
    },
    {
     "name": "stderr",
     "output_type": "stream",
     "text": [
      " 85%|████████▌ | 27603/32417 [02:57<00:30, 160.45it/s]"
     ]
    },
    {
     "name": "stdout",
     "output_type": "stream",
     "text": [
      "0.6931471824645996\n"
     ]
    },
    {
     "name": "stderr",
     "output_type": "stream",
     "text": [
      "100%|██████████| 32417/32417 [03:28<00:00, 155.57it/s]\n",
      "  1%|          | 192/32417 [00:01<03:31, 152.47it/s]"
     ]
    },
    {
     "name": "stdout",
     "output_type": "stream",
     "text": [
      "0.6931471824645996\n"
     ]
    },
    {
     "name": "stderr",
     "output_type": "stream",
     "text": [
      " 16%|█▌        | 5182/32417 [00:33<02:53, 156.81it/s]"
     ]
    },
    {
     "name": "stdout",
     "output_type": "stream",
     "text": [
      "0.6931471824645996\n"
     ]
    },
    {
     "name": "stderr",
     "output_type": "stream",
     "text": [
      " 31%|███▏      | 10195/32417 [01:06<02:25, 152.31it/s]"
     ]
    },
    {
     "name": "stdout",
     "output_type": "stream",
     "text": [
      "0.6931471824645996\n"
     ]
    },
    {
     "name": "stderr",
     "output_type": "stream",
     "text": [
      " 47%|████▋     | 15182/32417 [01:39<01:50, 156.47it/s]"
     ]
    },
    {
     "name": "stdout",
     "output_type": "stream",
     "text": [
      "0.6931471824645996\n"
     ]
    },
    {
     "name": "stderr",
     "output_type": "stream",
     "text": [
      " 62%|██████▏   | 20185/32417 [02:12<01:16, 160.89it/s]"
     ]
    },
    {
     "name": "stdout",
     "output_type": "stream",
     "text": [
      "0.6931471824645996\n"
     ]
    },
    {
     "name": "stderr",
     "output_type": "stream",
     "text": [
      " 78%|███████▊  | 25180/32417 [02:45<00:55, 130.86it/s]"
     ]
    },
    {
     "name": "stdout",
     "output_type": "stream",
     "text": [
      "0.6931471824645996\n"
     ]
    },
    {
     "name": "stderr",
     "output_type": "stream",
     "text": [
      " 93%|█████████▎| 30198/32417 [03:18<00:13, 159.81it/s]"
     ]
    },
    {
     "name": "stdout",
     "output_type": "stream",
     "text": [
      "0.6931471824645996\n"
     ]
    },
    {
     "name": "stderr",
     "output_type": "stream",
     "text": [
      "100%|██████████| 32417/32417 [03:33<00:00, 151.98it/s]\n"
     ]
    }
   ],
   "source": [
    "train()"
   ]
  },
  {
   "cell_type": "code",
   "execution_count": null,
   "metadata": {},
   "outputs": [],
   "source": []
  },
  {
   "cell_type": "code",
   "execution_count": 112,
   "metadata": {
    "execution": {
     "iopub.execute_input": "2023-06-14T13:29:04.627250Z",
     "iopub.status.busy": "2023-06-14T13:29:04.626873Z",
     "iopub.status.idle": "2023-06-14T13:29:04.635089Z",
     "shell.execute_reply": "2023-06-14T13:29:04.633923Z",
     "shell.execute_reply.started": "2023-06-14T13:29:04.627220Z"
    }
   },
   "outputs": [
    {
     "data": {
      "text/plain": [
       "(259335, 259335)"
      ]
     },
     "execution_count": 112,
     "metadata": {},
     "output_type": "execute_result"
    }
   ],
   "source": [
    "len(x_test), len(y_test)"
   ]
  },
  {
   "cell_type": "code",
   "execution_count": 113,
   "metadata": {
    "execution": {
     "iopub.execute_input": "2023-06-14T13:29:04.637205Z",
     "iopub.status.busy": "2023-06-14T13:29:04.636824Z",
     "iopub.status.idle": "2023-06-14T13:29:04.647464Z",
     "shell.execute_reply": "2023-06-14T13:29:04.646539Z",
     "shell.execute_reply.started": "2023-06-14T13:29:04.637167Z"
    }
   },
   "outputs": [],
   "source": [
    "custom_test = CustomDataset(x_test, y_test)"
   ]
  },
  {
   "cell_type": "code",
   "execution_count": 114,
   "metadata": {
    "execution": {
     "iopub.execute_input": "2023-06-14T13:29:04.649324Z",
     "iopub.status.busy": "2023-06-14T13:29:04.648736Z",
     "iopub.status.idle": "2023-06-14T13:29:04.661572Z",
     "shell.execute_reply": "2023-06-14T13:29:04.660618Z",
     "shell.execute_reply.started": "2023-06-14T13:29:04.649295Z"
    }
   },
   "outputs": [],
   "source": [
    "test_dataloader = DataLoader(custom_test, batch_size=8, shuffle=True)"
   ]
  },
  {
   "cell_type": "code",
   "execution_count": 115,
   "metadata": {
    "execution": {
     "iopub.execute_input": "2023-06-14T13:29:04.663017Z",
     "iopub.status.busy": "2023-06-14T13:29:04.662667Z",
     "iopub.status.idle": "2023-06-14T13:31:18.143801Z",
     "shell.execute_reply": "2023-06-14T13:31:18.142859Z",
     "shell.execute_reply.started": "2023-06-14T13:29:04.662989Z"
    }
   },
   "outputs": [],
   "source": [
    "neural_classifier.eval()\n",
    "true_labels = []\n",
    "predicted_labels = []\n",
    "\n",
    "for batch in dataloader:\n",
    "    inputs, labels = batch\n",
    "    outputs = neural_classifier(inputs)\n",
    "\n",
    "    _, predicted = torch.max(outputs, dim=1)\n",
    "\n",
    "    true_labels.extend(labels.tolist())\n",
    "    predicted_labels.extend(predicted.tolist())"
   ]
  },
  {
   "cell_type": "code",
   "execution_count": 116,
   "metadata": {
    "execution": {
     "iopub.execute_input": "2023-06-14T13:31:18.146154Z",
     "iopub.status.busy": "2023-06-14T13:31:18.145166Z",
     "iopub.status.idle": "2023-06-14T13:31:20.499608Z",
     "shell.execute_reply": "2023-06-14T13:31:20.498799Z",
     "shell.execute_reply.started": "2023-06-14T13:31:18.146089Z"
    }
   },
   "outputs": [
    {
     "name": "stderr",
     "output_type": "stream",
     "text": [
      "/opt/conda/lib/python3.10/site-packages/sklearn/metrics/_classification.py:1344: UndefinedMetricWarning: Precision and F-score are ill-defined and being set to 0.0 in labels with no predicted samples. Use `zero_division` parameter to control this behavior.\n",
      "  _warn_prf(average, modifier, msg_start, len(result))\n",
      "/opt/conda/lib/python3.10/site-packages/sklearn/metrics/_classification.py:1344: UndefinedMetricWarning: Precision and F-score are ill-defined and being set to 0.0 in labels with no predicted samples. Use `zero_division` parameter to control this behavior.\n",
      "  _warn_prf(average, modifier, msg_start, len(result))\n"
     ]
    },
    {
     "name": "stdout",
     "output_type": "stream",
     "text": [
      "              precision    recall  f1-score   support\n",
      "\n",
      "           0       0.99      1.00      1.00   1031302\n",
      "           1       0.00      0.00      0.00      6038\n",
      "\n",
      "    accuracy                           0.99   1037340\n",
      "   macro avg       0.50      0.50      0.50   1037340\n",
      "weighted avg       0.99      0.99      0.99   1037340\n",
      "\n"
     ]
    },
    {
     "name": "stderr",
     "output_type": "stream",
     "text": [
      "/opt/conda/lib/python3.10/site-packages/sklearn/metrics/_classification.py:1344: UndefinedMetricWarning: Precision and F-score are ill-defined and being set to 0.0 in labels with no predicted samples. Use `zero_division` parameter to control this behavior.\n",
      "  _warn_prf(average, modifier, msg_start, len(result))\n"
     ]
    }
   ],
   "source": [
    "print(classification_report(true_labels, predicted_labels))"
   ]
  },
  {
   "cell_type": "markdown",
   "metadata": {},
   "source": [
    "Nothing really different than the other algorithms, except boosting algorithm."
   ]
  }
 ],
 "metadata": {
  "kernelspec": {
   "display_name": "Python 3 (ipykernel)",
   "language": "python",
   "name": "python3"
  },
  "language_info": {
   "codemirror_mode": {
    "name": "ipython",
    "version": 3
   },
   "file_extension": ".py",
   "mimetype": "text/x-python",
   "name": "python",
   "nbconvert_exporter": "python",
   "pygments_lexer": "ipython3",
   "version": "3.11.3"
  }
 },
 "nbformat": 4,
 "nbformat_minor": 4
}
